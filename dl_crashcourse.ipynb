{
  "nbformat": 4,
  "nbformat_minor": 0,
  "metadata": {
    "kernelspec": {
      "display_name": "Python 3",
      "language": "python",
      "name": "python3"
    },
    "language_info": {
      "codemirror_mode": {
        "name": "ipython",
        "version": 3
      },
      "file_extension": ".py",
      "mimetype": "text/x-python",
      "name": "python",
      "nbconvert_exporter": "python",
      "pygments_lexer": "ipython3",
      "version": "3.7.7"
    },
    "colab": {
      "name": "dl_crashcourse.ipynb",
      "provenance": [],
      "include_colab_link": true
    }
  },
  "cells": [
    {
      "cell_type": "markdown",
      "metadata": {
        "id": "view-in-github",
        "colab_type": "text"
      },
      "source": [
        "<a href=\"https://colab.research.google.com/github/kasdallahF/StudentsTeach/blob/master/dl_crashcourse.ipynb\" target=\"_parent\"><img src=\"https://colab.research.google.com/assets/colab-badge.svg\" alt=\"Open In Colab\"/></a>"
      ]
    },
    {
      "cell_type": "markdown",
      "metadata": {
        "id": "myZinR_bPyhH",
        "colab_type": "text"
      },
      "source": [
        "<h1><center>Einführung in Deep Learning</center></h1>"
      ]
    },
    {
      "cell_type": "markdown",
      "metadata": {
        "id": "wiPyzknZPyhK",
        "colab_type": "text"
      },
      "source": [
        "#### 1. Das große Bild"
      ]
    },
    {
      "cell_type": "markdown",
      "metadata": {
        "id": "HTICyMCCPyhM",
        "colab_type": "text"
      },
      "source": [
        "In der letzten Sitzung haben wir uns das Grundprinzip des überwachten maschinellen Lernens angeschaut. Genauer gesagt haben wir folgende Animation als Grundlage des Verständnis betrachtet.\n",
        "https://hackernoon.com/visualizing-linear-regression-with-pytorch-9261f49edb09"
      ]
    },
    {
      "cell_type": "markdown",
      "metadata": {
        "id": "3QZsMsGJPyhN",
        "colab_type": "text"
      },
      "source": [
        "Ein machine Learning Algorithmus besteht aus 4 Bausteinen:\n",
        "1. Ein Datensatz: besteht aus vielen Datenpunkten. Ein Datenpunkt besteht aus einer Reihe an unabhängigen Variablen (Features = Merkmale) und eine abhängige Variable (target = Vorhersageziel ). Unsere Annahme ist: es existiert eine Zielfunktion, die diesen Datensatz beschreibt, i.e. es gibt eine Funktion, die für jeden Datenpunkt dieses Datensatzes aus den Merkmalen das richtige Vorhersageziel ermitteln kann. \n",
        "\n",
        "2. Ein Skeleton: eine mathematische Funktion, die wir auswählen, um die Zielfunktion bestmöglichst zu approximieren. Da wir die Zielfunktion nicht kennen, müssen wir mit verschiedenen Skeleton experimentieren. \n",
        "\n",
        "3. Eine Verlustmetrik: unser Skeleton produziert einen geschätzten Wert für den betrachteten Datenpunkt. Die Verlustmetrik gibt an, wie sehr sich die Schätzung von dem richtigen Wert abweicht. \n",
        "\n",
        "4. Ein Optimierungsalgorithmus: das Herzstück des Lernverfahrens. Aufbauend auf den ermittelten Fehler modifiziert der Optimierungsalgorithmus die Parameter so, dass der Fehler bei der nächsten Abschätzung geringer wird.  \n"
      ]
    },
    {
      "cell_type": "markdown",
      "metadata": {
        "id": "Ht2zrREPPyhO",
        "colab_type": "text"
      },
      "source": [
        "Deep Learning bezeichnet eine Reihe an Machine Learning Algorithmen, die ein bestimmmtes Skeleton einsetzen, nämlich ein künstliches neuronales Netz. "
      ]
    },
    {
      "cell_type": "markdown",
      "metadata": {
        "id": "lelHXNi7PyhP",
        "colab_type": "text"
      },
      "source": [
        "#### 2. Was sind künstliche neuronale Netze?"
      ]
    },
    {
      "cell_type": "markdown",
      "metadata": {
        "id": "snmz0_0MPyhR",
        "colab_type": "text"
      },
      "source": [
        "Hierfür werden wir uns nochmal das Ganze, was wir bisher behandelt haben, graphisch anschauen. "
      ]
    },
    {
      "cell_type": "markdown",
      "metadata": {
        "id": "0U9FcIiAPyhS",
        "colab_type": "text"
      },
      "source": [
        "#### 3. Warum sind kNNs so effektiv? "
      ]
    },
    {
      "cell_type": "markdown",
      "metadata": {
        "id": "cCD3vijKPyhT",
        "colab_type": "text"
      },
      "source": [
        "In den 90ern des letzten Jahrhunderts konnten Mathematiker beweisen, dass neuronale Netze, mit beliebiger Anzahl an Neuronen (beliebig tief oder beliebig breit) in der Lage sind, jede reelle Funktion zu approximieren. \n",
        "Dieses Ergebnis ist der Grund hinter der Verbreitung und der Beliebtheit von künstlichen neuronalen Netzen. "
      ]
    },
    {
      "cell_type": "markdown",
      "metadata": {
        "id": "Q3RRiilbPyhU",
        "colab_type": "text"
      },
      "source": [
        "#### 4. Praxisbeispiel "
      ]
    },
    {
      "cell_type": "markdown",
      "metadata": {
        "id": "nW3AIELlPyhV",
        "colab_type": "text"
      },
      "source": [
        "* **Daten beschaffen** "
      ]
    },
    {
      "cell_type": "code",
      "metadata": {
        "id": "CCJZ1Au3PyhW",
        "colab_type": "code",
        "colab": {}
      },
      "source": [
        "import tensorflow as tf\n",
        "from tensorflow import keras\n",
        "\n",
        "fashion_mnist = keras.datasets.fashion_mnist"
      ],
      "execution_count": null,
      "outputs": []
    },
    {
      "cell_type": "markdown",
      "metadata": {
        "id": "flC0BYS3Pyhg",
        "colab_type": "text"
      },
      "source": [
        "* **Daten aufteilen**"
      ]
    },
    {
      "cell_type": "code",
      "metadata": {
        "id": "e60EPm81Pyhp",
        "colab_type": "code",
        "colab": {}
      },
      "source": [
        "(X_train, y_train), (X_test, y_test) = fashion_mnist.load_data()"
      ],
      "execution_count": null,
      "outputs": []
    },
    {
      "cell_type": "markdown",
      "metadata": {
        "id": "Gkqms2dwPyhx",
        "colab_type": "text"
      },
      "source": [
        "* **Daten untersuchen**"
      ]
    },
    {
      "cell_type": "code",
      "metadata": {
        "id": "b690qffrPyhy",
        "colab_type": "code",
        "colab": {},
        "outputId": "00186941-901c-4ca7-8e38-8ffc0d2a3947"
      },
      "source": [
        "print ('----------------------')\n",
        "print (X_train.shape)\n",
        "print ('----------------------')\n",
        "print (y_train.shape)\n",
        "print ('----------------------')\n",
        "print (X_test.shape)\n",
        "print ('----------------------')\n",
        "print (y_test.shape)\n",
        "print ('----------------------')"
      ],
      "execution_count": null,
      "outputs": [
        {
          "output_type": "stream",
          "text": [
            "----------------------\n",
            "(60000, 28, 28)\n",
            "----------------------\n",
            "(60000,)\n",
            "----------------------\n",
            "(10000, 28, 28)\n",
            "----------------------\n",
            "(10000,)\n",
            "----------------------\n"
          ],
          "name": "stdout"
        }
      ]
    },
    {
      "cell_type": "markdown",
      "metadata": {
        "id": "Whq7tYKuPyh6",
        "colab_type": "text"
      },
      "source": [
        "\n"
      ]
    },
    {
      "cell_type": "markdown",
      "metadata": {
        "id": "tJp5wqRjPyh8",
        "colab_type": "text"
      },
      "source": [
        "\n",
        "\n",
        "Für den fashion_mnist Datensatz gibt es keine in der Bibliothek definierte Zuordnung der Kategorien zu den ausgegebenen Zahlen. Wenn das der Fall ist, lohnt es sich in der Dokumentation reizuschauen und eine neue Variable in unserem Skript mit den Kategorien zu erstellen."
      ]
    },
    {
      "cell_type": "code",
      "metadata": {
        "id": "2xpGSy9PPyh-",
        "colab_type": "code",
        "colab": {}
      },
      "source": [
        "kategorien = [\" T-shirt/ top\", \"Trouser\", \"Pullover\", \"Dress\", \n",
        "              \"Coat\", \"Sandal\", \"Shirt\", \"Sneaker\", \"Bag\", \"Ankle boot\"]"
      ],
      "execution_count": null,
      "outputs": []
    },
    {
      "cell_type": "markdown",
      "metadata": {
        "id": "oM50rkNgPyiE",
        "colab_type": "text"
      },
      "source": [
        "* **Daten visualisieren**"
      ]
    },
    {
      "cell_type": "code",
      "metadata": {
        "id": "iPwOhUdzPyiE",
        "colab_type": "code",
        "colab": {},
        "outputId": "4d803e0d-7a8d-4a09-eb72-1b83cca8dde9"
      },
      "source": [
        "%matplotlib inline\n",
        "import matplotlib.pyplot as plt \n",
        "\n",
        "plt.imshow(X_train[0], cmap= 'binary')\n",
        "plt.show()"
      ],
      "execution_count": null,
      "outputs": [
        {
          "output_type": "display_data",
          "data": {
            "image/png": "[encoded data removed]",
            "text/plain": [
              "<Figure size 432x288 with 1 Axes>"
            ]
          },
          "metadata": {
            "tags": [],
            "needs_background": "light"
          }
        }
      ]
    },
    {
      "cell_type": "markdown",
      "metadata": {
        "id": "H8OOSfYJPyiN",
        "colab_type": "text"
      },
      "source": [
        "-----------------------------------------------------------------------------------------------------\n",
        "**Übung**\n",
        "\n",
        "1. Zeigt das 100ste Bild im Datensatz an. \n",
        "2. Welche Farbe haben die originalen Bilder? Wie zeigt man sie an? \n",
        "\n",
        "-----------------------------------------------------------------------------------------------------"
      ]
    },
    {
      "cell_type": "code",
      "metadata": {
        "id": "HERqb1kIPyiP",
        "colab_type": "code",
        "colab": {},
        "outputId": "ff49cfb1-411a-43b9-e8bc-38b66ad24a2e"
      },
      "source": [
        "n_rows = 4\n",
        "n_cols = 8\n",
        "plt.figure(figsize=(n_cols * 1.5, n_rows * 1.2))\n",
        "for row in range(n_rows):\n",
        "    for col in range(n_cols):\n",
        "        index = n_cols * row + col\n",
        "        plt.subplot(n_rows, n_cols, index + 1)\n",
        "        plt.imshow(X_train[index], cmap=\"binary\", interpolation=\"nearest\")\n",
        "        plt.axis('off')\n",
        "        plt.title(kategorien[y_train[index]], fontsize=12)\n",
        "plt.subplots_adjust(wspace=0.2, hspace=0.5)\n",
        "plt.show()"
      ],
      "execution_count": null,
      "outputs": [
        {
          "output_type": "display_data",
          "data": {
            "image/png": "[encoded data removed]",
            "text/plain": [
              "<Figure size 864x345.6 with 32 Axes>"
            ]
          },
          "metadata": {
            "tags": [],
            "needs_background": "light"
          }
        }
      ]
    },
    {
      "cell_type": "markdown",
      "metadata": {
        "id": "D445gwkVPyiV",
        "colab_type": "text"
      },
      "source": [
        "* **Daten aufbereiten**"
      ]
    },
    {
      "cell_type": "code",
      "metadata": {
        "id": "9yPO41C2PyiW",
        "colab_type": "code",
        "colab": {}
      },
      "source": [
        "X_train = X_train/ 255. \n",
        "y_train = y_train/ 255. \n",
        "X_test = X_test/ 255. "
      ],
      "execution_count": null,
      "outputs": []
    },
    {
      "cell_type": "markdown",
      "metadata": {
        "id": "U1rds_WdPyib",
        "colab_type": "text"
      },
      "source": [
        "* **Modell trainieren**"
      ]
    },
    {
      "cell_type": "code",
      "metadata": {
        "id": "x2vAbNOhPyic",
        "colab_type": "code",
        "colab": {}
      },
      "source": [
        "fashion_model = keras.models.Sequential()\n",
        "fashion_model.add(keras.layers.Flatten(input_shape= [28, 28]))\n",
        "fashion_model.add(keras.layers.Dense(300, activation=\"relu\"))\n",
        "fashion_model.add(keras.layers.Dense(100, activation=\"relu\"))\n",
        "fashion_model.add(keras.layers.Dense(10, activation= \"softmax\"))         "
      ],
      "execution_count": null,
      "outputs": []
    },
    {
      "cell_type": "code",
      "metadata": {
        "id": "vM2mfxoRPyik",
        "colab_type": "code",
        "colab": {},
        "outputId": "9a43e398-eb42-4cb5-83bc-48c52b50a8ac"
      },
      "source": [
        "# modell visualisieren\n",
        "keras.utils.plot_model(fashion_model, \"Students Teach Professionals.png\", show_shapes=True)"
      ],
      "execution_count": null,
      "outputs": [
        {
          "output_type": "execute_result",
          "data": {
            "image/png": "[encoded data removed]",
            "text/plain": [
              "<IPython.core.display.Image object>"
            ]
          },
          "metadata": {
            "tags": []
          },
          "execution_count": 76
        }
      ]
    },
    {
      "cell_type": "markdown",
      "metadata": {
        "id": "8jTFUbZvPyip",
        "colab_type": "text"
      },
      "source": [
        "-----------------------------------------------------------------------------------------\n",
        "**Übung**\n",
        "\n",
        "1. Fügt nach der Inputschicht eine dichte (dense) Schicht hinzu, die über 200 Neuronen und eine \"relu\" Aktivierungsfunktion verfügt. \n",
        "2. Visualisiert die neue Architektur. \n",
        "\n",
        "-----------------------------------------------------------------------------------------\n"
      ]
    },
    {
      "cell_type": "code",
      "metadata": {
        "id": "4ZMOKL7rPyiq",
        "colab_type": "code",
        "colab": {}
      },
      "source": [
        "import numpy as np \n",
        "np.random.seed(42)\n",
        "tf.random.set_seed(42)\n",
        "fashion_model.compile(loss = 'sparse_categorical_crossentropy', \n",
        "                     optimizer = 'sgd', \n",
        "                     metrics = [\"accuracy\"])"
      ],
      "execution_count": null,
      "outputs": []
    },
    {
      "cell_type": "code",
      "metadata": {
        "id": "Mo3eu51UPyiv",
        "colab_type": "code",
        "colab": {},
        "outputId": "66fe75d7-f6f1-4fd2-c34b-c93f4b3c041f"
      },
      "source": [
        "history = fashion_model.fit(X_train, y_train, epochs=5)"
      ],
      "execution_count": null,
      "outputs": [
        {
          "output_type": "stream",
          "text": [
            "Train on 60000 samples\n",
            "Epoch 1/5\n",
            "60000/60000 [==============================] - 5s 87us/sample - loss: 1.0019e-04 - accuracy: 0.1000\n",
            "Epoch 2/5\n",
            "60000/60000 [==============================] - 6s 100us/sample - loss: 8.9995e-05 - accuracy: 0.1000\n",
            "Epoch 3/5\n",
            "60000/60000 [==============================] - 5s 87us/sample - loss: 8.1586e-05 - accuracy: 0.1000\n",
            "Epoch 4/5\n",
            "60000/60000 [==============================] - 5s 80us/sample - loss: 7.4546e-05 - accuracy: 0.1000\n",
            "Epoch 5/5\n",
            "60000/60000 [==============================] - 5s 87us/sample - loss: 6.8538e-05 - accuracy: 0.1000\n"
          ],
          "name": "stdout"
        }
      ]
    },
    {
      "cell_type": "code",
      "metadata": {
        "id": "KpuFXF40Pyi0",
        "colab_type": "code",
        "colab": {},
        "outputId": "ef5cf651-53bd-4fcf-ecff-991220daa54f"
      },
      "source": [
        "history.history"
      ],
      "execution_count": null,
      "outputs": [
        {
          "output_type": "execute_result",
          "data": {
            "text/plain": [
              "{'loss': [0.00021688595501861226,\n",
              "  0.00017730590677044044,\n",
              "  0.00014936716698575765,\n",
              "  0.00012866362472220013,\n",
              "  0.00011274878016362588],\n",
              " 'accuracy': [0.1, 0.1, 0.1, 0.1, 0.1]}"
            ]
          },
          "metadata": {
            "tags": []
          },
          "execution_count": 56
        }
      ]
    },
    {
      "cell_type": "markdown",
      "metadata": {
        "id": "w6JqMdiIPyi5",
        "colab_type": "text"
      },
      "source": [
        "------------------------------------------------------------------------------------------------\n",
        "**Übung**\n",
        "\n",
        "1. Welche Genauigkeit erreicht das Modell, wenn die Anzahl an Epochen auf 30 erhöht wird? und wenn sie auf 1 erniedrigt wird? \n",
        "\n",
        "------------------------------------------------------------------------------------------------"
      ]
    },
    {
      "cell_type": "markdown",
      "metadata": {
        "id": "-vyEwu6mPyi6",
        "colab_type": "text"
      },
      "source": [
        "* **Modell testen** "
      ]
    },
    {
      "cell_type": "code",
      "metadata": {
        "id": "ja4V7abFPyi7",
        "colab_type": "code",
        "colab": {}
      },
      "source": [
        "error_test= fashion_model.evaluate(X_test, y_test, verbose=0)"
      ],
      "execution_count": null,
      "outputs": []
    },
    {
      "cell_type": "code",
      "metadata": {
        "id": "yQCgGwkLPyjD",
        "colab_type": "code",
        "colab": {},
        "outputId": "57c85012-032f-47d1-978b-b7a011a5e5ce"
      },
      "source": [
        "error_test"
      ],
      "execution_count": null,
      "outputs": [
        {
          "output_type": "execute_result",
          "data": {
            "text/plain": [
              "[0.0, 0.1]"
            ]
          },
          "metadata": {
            "tags": []
          },
          "execution_count": 70
        }
      ]
    },
    {
      "cell_type": "code",
      "metadata": {
        "id": "FDFatjcPPyjJ",
        "colab_type": "code",
        "colab": {}
      },
      "source": [
        ""
      ],
      "execution_count": null,
      "outputs": []
    }
  ]
}