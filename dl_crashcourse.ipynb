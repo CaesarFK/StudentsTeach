{
  "nbformat": 4,
  "nbformat_minor": 0,
  "metadata": {
    "kernelspec": {
      "display_name": "Python 3",
      "language": "python",
      "name": "python3"
    },
    "language_info": {
      "codemirror_mode": {
        "name": "ipython",
        "version": 3
      },
      "file_extension": ".py",
      "mimetype": "text/x-python",
      "name": "python",
      "nbconvert_exporter": "python",
      "pygments_lexer": "ipython3",
      "version": "3.7.7"
    },
    "colab": {
      "name": "dl_crashcourse.ipynb",
      "provenance": [],
      "include_colab_link": true
    }
  },
  "cells": [
    {
      "cell_type": "markdown",
      "metadata": {
        "id": "view-in-github",
        "colab_type": "text"
      },
      "source": [
        "<a href=\"https://colab.research.google.com/github/kasdallahF/StudentsTeach/blob/master/dl_crashcourse.ipynb\" target=\"_parent\"><img src=\"https://colab.research.google.com/assets/colab-badge.svg\" alt=\"Open In Colab\"/></a>"
      ]
    },
    {
      "cell_type": "markdown",
      "metadata": {
        "id": "hMrz4Oj5oz2I",
        "colab_type": "text"
      },
      "source": [
        "<h1><center>Einführung in Deep Learning</center></h1>"
      ]
    },
    {
      "cell_type": "markdown",
      "metadata": {
        "id": "lfZQLrAaoz2K",
        "colab_type": "text"
      },
      "source": [
        "#### 1. Das große Bild"
      ]
    },
    {
      "cell_type": "markdown",
      "metadata": {
        "id": "-PG0B_YLoz2L",
        "colab_type": "text"
      },
      "source": [
        "In der letzten Sitzung haben wir uns das Grundprinzip des überwachten maschinellen Lernens angeschaut. Genauer gesagt haben wir folgende Animation als Grundlage des Verständnis betrachtet.\n",
        "https://hackernoon.com/visualizing-linear-regression-with-pytorch-9261f49edb09"
      ]
    },
    {
      "cell_type": "markdown",
      "metadata": {
        "id": "ZwOcywdOoz2M",
        "colab_type": "text"
      },
      "source": [
        "Ein machine Learning Algorithmus besteht aus 4 Bausteinen:\n",
        "1. Ein Datensatz: besteht aus vielen Datenpunkten. Ein Datenpunkt besteht aus einer Reihe an unabhängigen Variablen (Features = Merkmale) und eine abhängige Variable (target = Vorhersageziel ). Unsere Annahme ist: es existiert eine Zielfunktion, die diesen Datensatz beschreibt, i.e. es gibt eine Funktion, die für jeden Datenpunkt dieses Datensatzes aus den Merkmalen das richtige Vorhersageziel ermitteln kann. \n",
        "\n",
        "2. Ein Skeleton: eine mathematische Funktion, die wir auswählen, um die Zielfunktion bestmöglichst zu approximieren. Da wir die Zielfunktion nicht kennen, müssen wir mit verschiedenen Skeleton experimentieren. \n",
        "\n",
        "3. Eine Verlustmetrik: unser Skeleton produziert einen geschätzten Wert für den betrachteten Datenpunkt. Die Verlustmetrik gibt an, wie sehr sich die Schätzung von dem richtigen Wert abweicht. \n",
        "\n",
        "4. Ein Optimierungsalgorithmus: das Herzstück des Lernverfahrens. Aufbauend auf den ermittelten Fehler modifiziert der Optimierungsalgorithmus die Parameter so, dass der Fehler bei der nächsten Abschätzung geringer wird.  \n"
      ]
    },
    {
      "cell_type": "markdown",
      "metadata": {
        "id": "Uf3Fw7dXoz2N",
        "colab_type": "text"
      },
      "source": [
        "Deep Learning bezeichnet eine Reihe an Machine Learning Algorithmen, die ein bestimmmtes Skeleton einsetzen, nämlich ein künstliches neuronales Netz. "
      ]
    },
    {
      "cell_type": "markdown",
      "metadata": {
        "id": "8TLAMQtgoz2Q",
        "colab_type": "text"
      },
      "source": [
        "#### 2. Was sind künstliche neuronale Netze?"
      ]
    },
    {
      "cell_type": "markdown",
      "metadata": {
        "id": "DKywKmAzoz2T",
        "colab_type": "text"
      },
      "source": [
        "Hierfür werden wir uns nochmal das Ganze, was wir bisher behandelt haben, graphisch anschauen. "
      ]
    },
    {
      "cell_type": "markdown",
      "metadata": {
        "id": "Ys1aJUVyoz2W",
        "colab_type": "text"
      },
      "source": [
        "#### 3. Warum sind kNNs so effektiv? "
      ]
    },
    {
      "cell_type": "markdown",
      "metadata": {
        "id": "i0Fw1p07oz2Y",
        "colab_type": "text"
      },
      "source": [
        "In den 90ern des letzten Jahrhunderts konnten Mathematiker beweisen, dass neuronale Netze, mit beliebiger Anzahl an Neuronen (beliebig tief oder beliebig breit) in der Lage sind, jede reelle Funktion zu approximieren. \n",
        "Dieses Ergebnis ist der Grund hinter der Verbreitung und der Beliebtheit von künstlichen neuronalen Netzen. "
      ]
    },
    {
      "cell_type": "markdown",
      "metadata": {
        "id": "1VPbTQ2Ioz2b",
        "colab_type": "text"
      },
      "source": [
        "#### 4. Praxisbeispiel "
      ]
    },
    {
      "cell_type": "markdown",
      "metadata": {
        "id": "MKnHgEJSoz2e",
        "colab_type": "text"
      },
      "source": [
        "* **Daten beschaffen** "
      ]
    },
    {
      "cell_type": "code",
      "metadata": {
        "id": "WgFlpa47oz2f",
        "colab_type": "code",
        "colab": {}
      },
      "source": [
        "import tensorflow as tf\n",
        "from tensorflow import keras\n",
        "\n",
        "fashion_mnist = keras.datasets.fashion_mnist"
      ],
      "execution_count": 1,
      "outputs": []
    },
    {
      "cell_type": "markdown",
      "metadata": {
        "id": "FnjIwHFtoz2m",
        "colab_type": "text"
      },
      "source": [
        "* **Daten aufteilen**"
      ]
    },
    {
      "cell_type": "code",
      "metadata": {
        "id": "xsRwOxjtoz2n",
        "colab_type": "code",
        "colab": {}
      },
      "source": [
        "(X_train, y_train), (X_test, y_test) = fashion_mnist.load_data()"
      ],
      "execution_count": 33,
      "outputs": []
    },
    {
      "cell_type": "markdown",
      "metadata": {
        "id": "XPTqx1y1oz2s",
        "colab_type": "text"
      },
      "source": [
        "* **Daten untersuchen**"
      ]
    },
    {
      "cell_type": "code",
      "metadata": {
        "id": "2bQ6B5dxoz2t",
        "colab_type": "code",
        "colab": {
          "base_uri": "https://localhost:8080/",
          "height": 175
        },
        "outputId": "94299f0b-c858-4b0a-cef0-bf573f43e641"
      },
      "source": [
        "print ('----------------------')\n",
        "print (X_train.shape)\n",
        "print ('----------------------')\n",
        "print (y_train.shape)\n",
        "print ('----------------------')\n",
        "print (X_test.shape)\n",
        "print ('----------------------')\n",
        "print (y_test.shape)\n",
        "print ('----------------------')"
      ],
      "execution_count": 34,
      "outputs": [
        {
          "output_type": "stream",
          "text": [
            "----------------------\n",
            "(60000, 28, 28)\n",
            "----------------------\n",
            "(60000,)\n",
            "----------------------\n",
            "(10000, 28, 28)\n",
            "----------------------\n",
            "(10000,)\n",
            "----------------------\n"
          ],
          "name": "stdout"
        }
      ]
    },
    {
      "cell_type": "markdown",
      "metadata": {
        "id": "Sth7CJhOoz21",
        "colab_type": "text"
      },
      "source": [
        "\n"
      ]
    },
    {
      "cell_type": "markdown",
      "metadata": {
        "id": "78oi41fioz22",
        "colab_type": "text"
      },
      "source": [
        "\n",
        "\n",
        "Für den fashion_mnist Datensatz gibt es keine in der Bibliothek definierte Zuordnung der Kategorien zu den ausgegebenen Zahlen. Wenn das der Fall ist, lohnt es sich in der Dokumentation reizuschauen und eine neue Variable in unserem Skript mit den Kategorien zu erstellen."
      ]
    },
    {
      "cell_type": "code",
      "metadata": {
        "id": "WUzSwS6Ioz23",
        "colab_type": "code",
        "colab": {}
      },
      "source": [
        "kategorien = [\" T-shirt/ top\", \"Trouser\", \"Pullover\", \"Dress\", \n",
        "              \"Coat\", \"Sandal\", \"Shirt\", \"Sneaker\", \"Bag\", \"Ankle boot\"]"
      ],
      "execution_count": 35,
      "outputs": []
    },
    {
      "cell_type": "markdown",
      "metadata": {
        "id": "LltNy6i2oz2-",
        "colab_type": "text"
      },
      "source": [
        "* **Daten visualisieren**"
      ]
    },
    {
      "cell_type": "code",
      "metadata": {
        "id": "aScLD_qGoz3A",
        "colab_type": "code",
        "colab": {
          "base_uri": "https://localhost:8080/",
          "height": 265
        },
        "outputId": "1136a3e1-bbdb-4d04-b974-5ff359f89461"
      },
      "source": [
        "%matplotlib inline\n",
        "import matplotlib.pyplot as plt \n",
        "\n",
        "plt.imshow(X_train[99], cmap=\n",
        "           'binary') # cmap = colormap = Farbpalette\n",
        "plt.show()"
      ],
      "execution_count": 36,
      "outputs": [
        {
          "output_type": "display_data",
          "data": {
            "image/png": "[encoded data removed]",
            "text/plain": [
              "<Figure size 432x288 with 1 Axes>"
            ]
          },
          "metadata": {
            "tags": [],
            "needs_background": "light"
          }
        }
      ]
    },
    {
      "cell_type": "markdown",
      "metadata": {
        "id": "hkCap6Zloz3L",
        "colab_type": "text"
      },
      "source": [
        "-----------------------------------------------------------------------------------------------------\n",
        "**Übung**\n",
        "\n",
        "1. Zeigt das 100ste Bild im Datensatz an. \n",
        "2. Welche Farbe haben die originalen Bilder? Wie zeigt man sie an? \n",
        "\n",
        "-----------------------------------------------------------------------------------------------------"
      ]
    },
    {
      "cell_type": "code",
      "metadata": {
        "id": "6qg0CWp9oz3M",
        "colab_type": "code",
        "colab": {
          "base_uri": "https://localhost:8080/",
          "height": 308
        },
        "outputId": "f76f8e6b-ddde-4593-e20e-a81f864b01ad"
      },
      "source": [
        "n_rows = 4\n",
        "n_cols = 8\n",
        "plt.figure(figsize=(n_cols * 1.5, n_rows * 1.2))\n",
        "for row in range(n_rows):\n",
        "    for col in range(n_cols):\n",
        "        index = n_cols * row + col\n",
        "        plt.subplot(n_rows, n_cols, index + 1)\n",
        "        plt.imshow(X_train[index], cmap=\"binary\", interpolation=\"nearest\")\n",
        "        plt.axis('off')\n",
        "        plt.title(kategorien[y_train[index]], fontsize=12)\n",
        "plt.subplots_adjust(wspace=0.2, hspace=0.5)\n",
        "plt.show()"
      ],
      "execution_count": 37,
      "outputs": [
        {
          "output_type": "display_data",
          "data": {
            "image/png": "[encoded data removed]",
            "text/plain": [
              "<Figure size 864x345.6 with 32 Axes>"
            ]
          },
          "metadata": {
            "tags": [],
            "needs_background": "light"
          }
        }
      ]
    },
    {
      "cell_type": "markdown",
      "metadata": {
        "id": "-bmiGWhqoz3R",
        "colab_type": "text"
      },
      "source": [
        "* **Daten aufbereiten**"
      ]
    },
    {
      "cell_type": "code",
      "metadata": {
        "id": "WyfsypLgoz3S",
        "colab_type": "code",
        "colab": {}
      },
      "source": [
        "X_train = X_train/ 255.0  \n",
        "X_test = X_test/ 255.0 "
      ],
      "execution_count": 38,
      "outputs": []
    },
    {
      "cell_type": "markdown",
      "metadata": {
        "id": "MufVz--1oz3X",
        "colab_type": "text"
      },
      "source": [
        "* **Modell trainieren**"
      ]
    },
    {
      "cell_type": "code",
      "metadata": {
        "id": "i69lazwgoz3Y",
        "colab_type": "code",
        "colab": {}
      },
      "source": [
        "fashion_model = keras.models.Sequential()\n",
        "fashion_model.add(keras.layers.Flatten(input_shape= [28, 28]))\n",
        "fashion_model.add(keras.layers.Dense(300, activation=\"relu\"))\n",
        "fashion_model.add(keras.layers.Dense(100, activation=\"relu\"))\n",
        "fashion_model.add(keras.layers.Dense(10, activation= \"softmax\"))         "
      ],
      "execution_count": 39,
      "outputs": []
    },
    {
      "cell_type": "code",
      "metadata": {
        "id": "aoU9-f7woz3e",
        "colab_type": "code",
        "colab": {
          "base_uri": "https://localhost:8080/",
          "height": 533
        },
        "outputId": "2a36384c-e8ce-4525-b423-dad086ebd29f"
      },
      "source": [
        "# modell visualisieren\n",
        "keras.utils.plot_model(fashion_model, \"Students Teach Professionals.png\", show_shapes=True)"
      ],
      "execution_count": 40,
      "outputs": [
        {
          "output_type": "execute_result",
          "data": {
            "image/png": "[encoded data removed]",
            "text/plain": [
              "<IPython.core.display.Image object>"
            ]
          },
          "metadata": {
            "tags": []
          },
          "execution_count": 40
        }
      ]
    },
    {
      "cell_type": "markdown",
      "metadata": {
        "id": "-mTIOmAfoz3j",
        "colab_type": "text"
      },
      "source": [
        "-----------------------------------------------------------------------------------------\n",
        "**Übung**\n",
        "\n",
        "1. Fügt nach der Inputschicht eine dichte (dense) Schicht hinzu, die über 200 Neuronen und eine \"relu\" Aktivierungsfunktion verfügt. \n",
        "2. Visualisiert die neue Architektur. \n",
        "\n",
        "-----------------------------------------------------------------------------------------\n"
      ]
    },
    {
      "cell_type": "code",
      "metadata": {
        "id": "vmm0hVpGoz3k",
        "colab_type": "code",
        "colab": {}
      },
      "source": [
        "import numpy as np \n",
        "np.random.seed(42)\n",
        "tf.random.set_seed(42)\n",
        "fashion_model.compile(loss = \"sparse_categorical_crossentropy\", \n",
        "                     optimizer = \"sgd\", \n",
        "                     metrics = [\"accuracy\"])"
      ],
      "execution_count": 41,
      "outputs": []
    },
    {
      "cell_type": "code",
      "metadata": {
        "id": "gcwAoL0Soz3p",
        "colab_type": "code",
        "colab": {
          "base_uri": "https://localhost:8080/",
          "height": 193
        },
        "outputId": "429b5d22-6f4f-493e-932c-f4bbaf893980"
      },
      "source": [
        "history = fashion_model.fit(X_train, y_train, epochs=5)"
      ],
      "execution_count": 42,
      "outputs": [
        {
          "output_type": "stream",
          "text": [
            "Epoch 1/5\n",
            "1875/1875 [==============================] - 5s 3ms/step - loss: 0.7041 - accuracy: 0.7699\n",
            "Epoch 2/5\n",
            "1875/1875 [==============================] - 5s 3ms/step - loss: 0.4761 - accuracy: 0.8354\n",
            "Epoch 3/5\n",
            "1875/1875 [==============================] - 5s 3ms/step - loss: 0.4331 - accuracy: 0.8499\n",
            "Epoch 4/5\n",
            "1875/1875 [==============================] - 5s 3ms/step - loss: 0.4066 - accuracy: 0.8576\n",
            "Epoch 5/5\n",
            "1875/1875 [==============================] - 5s 3ms/step - loss: 0.3880 - accuracy: 0.8634\n"
          ],
          "name": "stdout"
        }
      ]
    },
    {
      "cell_type": "code",
      "metadata": {
        "id": "bD-aHesnoz3u",
        "colab_type": "code",
        "colab": {},
        "outputId": "990dcfe9-d3ab-48f2-bc71-cb51112a7769"
      },
      "source": [
        "history.history"
      ],
      "execution_count": null,
      "outputs": [
        {
          "output_type": "execute_result",
          "data": {
            "text/plain": [
              "{'loss': [0.00021688595501861226,\n",
              "  0.00017730590677044044,\n",
              "  0.00014936716698575765,\n",
              "  0.00012866362472220013,\n",
              "  0.00011274878016362588],\n",
              " 'accuracy': [0.1, 0.1, 0.1, 0.1, 0.1]}"
            ]
          },
          "metadata": {
            "tags": []
          },
          "execution_count": 56
        }
      ]
    },
    {
      "cell_type": "markdown",
      "metadata": {
        "id": "b1gSO8oQoz3y",
        "colab_type": "text"
      },
      "source": [
        "------------------------------------------------------------------------------------------------\n",
        "**Übung**\n",
        "\n",
        "1. Welche Genauigkeit erreicht das Modell, wenn die Anzahl an Epochen auf 30 erhöht wird? und wenn sie auf 1 erniedrigt wird? \n",
        "\n",
        "------------------------------------------------------------------------------------------------"
      ]
    },
    {
      "cell_type": "markdown",
      "metadata": {
        "id": "4izbLnSSoz3z",
        "colab_type": "text"
      },
      "source": [
        "* **Modell testen** "
      ]
    },
    {
      "cell_type": "code",
      "metadata": {
        "id": "gCFNgvaZoz3z",
        "colab_type": "code",
        "colab": {}
      },
      "source": [
        "error_test= fashion_model.evaluate(X_test, y_test, verbose=0)"
      ],
      "execution_count": null,
      "outputs": []
    },
    {
      "cell_type": "code",
      "metadata": {
        "id": "UByvmybQoz35",
        "colab_type": "code",
        "colab": {},
        "outputId": "0bcf9dda-af81-46b3-9b66-69efa7f6db67"
      },
      "source": [
        "error_test"
      ],
      "execution_count": null,
      "outputs": [
        {
          "output_type": "execute_result",
          "data": {
            "text/plain": [
              "[0.0, 0.1]"
            ]
          },
          "metadata": {
            "tags": []
          },
          "execution_count": 70
        }
      ]
    },
    {
      "cell_type": "code",
      "metadata": {
        "id": "X1YEw5f4oz3_",
        "colab_type": "code",
        "colab": {}
      },
      "source": [
        ""
      ],
      "execution_count": null,
      "outputs": []
    }
  ]
}