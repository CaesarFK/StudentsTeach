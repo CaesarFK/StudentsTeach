{
  "nbformat": 4,
  "nbformat_minor": 0,
  "metadata": {
    "kernelspec": {
      "display_name": "Python 3",
      "language": "python",
      "name": "python3"
    },
    "language_info": {
      "codemirror_mode": {
        "name": "ipython",
        "version": 3
      },
      "file_extension": ".py",
      "mimetype": "text/x-python",
      "name": "python",
      "nbconvert_exporter": "python",
      "pygments_lexer": "ipython3",
      "version": "3.7.7"
    },
    "colab": {
      "name": "auto.ipynb",
      "provenance": [],
      "collapsed_sections": [],
      "include_colab_link": true
    }
  },
  "cells": [
    {
      "cell_type": "markdown",
      "metadata": {
        "id": "view-in-github",
        "colab_type": "text"
      },
      "source": [
        "<a href=\"https://colab.research.google.com/github/CaesarFK/StudentsTeach/blob/master/auto.ipynb\" target=\"_parent\"><img src=\"https://colab.research.google.com/assets/colab-badge.svg\" alt=\"Open In Colab\"/></a>"
      ]
    },
    {
      "cell_type": "code",
      "metadata": {
        "id": "ARXwx8mMos6h",
        "colab_type": "code",
        "colab": {}
      },
      "source": [
        "# Python-Bibliothek, in der ein Auto modelliert wird."
      ],
      "execution_count": null,
      "outputs": []
    },
    {
      "cell_type": "markdown",
      "metadata": {
        "id": "y8X-QWB4os61",
        "colab_type": "text"
      },
      "source": [
        "#### 1. Eigenschaften "
      ]
    },
    {
      "cell_type": "markdown",
      "metadata": {
        "id": "52uEfEIros64",
        "colab_type": "text"
      },
      "source": [
        "Die Eigenschaften eines Autos können verschiedenen Kategorien zugeordnet werden. Manche können in Form einer Zahl und anderer in Form von Wörtern ausgedrückt werden. Andere Eigenschaften können mit Ja oder Nein beschrieben werden oder aber komplexere Formen annehmen, die wir später betrachten werden. "
      ]
    },
    {
      "cell_type": "code",
      "metadata": {
        "id": "yIwSUiPbos66",
        "colab_type": "code",
        "colab": {}
      },
      "source": [
        "# Text -> String (englisch für Zeichenfolge)\n",
        "hersteller = 'Ford'\n",
        "modell = 'Mustang'\n",
        "\n",
        "# Ganzzahl -> int (abkürzung von Integer = englisch für Ganzzahl)\n",
        "ps_anzahl= 317\n",
        "drehmoment = 432\n",
        "\n",
        "# Gleitkommazahl -> float (floating point number)\n",
        "\n",
        "preis_manuell = 44.000\n",
        "preis_automatik = 46.500\n",
        "\n",
        "# Das Wharheitsgehalt einer Aussage kann in einer boolischen Variable gespeichert werden -> bool\n",
        "\n",
        "preis_kategorie = preis_manuell < 45.000 \n",
        "hergestellt_in_deutschland = True"
      ],
      "execution_count": null,
      "outputs": []
    },
    {
      "cell_type": "markdown",
      "metadata": {
        "id": "D8ufhwHAos7I",
        "colab_type": "text"
      },
      "source": [
        "Die oben aufgeführten Eigenschaften nennen wir Variablen. Das hat den Grund, dass wir deren Inhalt immer verändern können. "
      ]
    },
    {
      "cell_type": "code",
      "metadata": {
        "id": "03eNndI5os7L",
        "colab_type": "code",
        "colab": {}
      },
      "source": [
        "hersteller = 'Merceds-benz'\n",
        "modell = 'G 350 D'"
      ],
      "execution_count": null,
      "outputs": []
    },
    {
      "cell_type": "markdown",
      "metadata": {
        "id": "rSOnaS-treYi",
        "colab_type": "text"
      },
      "source": [
        "**Aufgabe1:** \n",
        "1. Erstellt eine neue Bibliothek mit dem Namen 'mensch'\n",
        "2. Fügt 3 bis 5 Eigenschaften hinzu, die verschiedene Datentypen aufweisen"
      ]
    },
    {
      "cell_type": "markdown",
      "metadata": {
        "id": "INQuce-Hos7W",
        "colab_type": "text"
      },
      "source": [
        "Jetzt, dass wir uns das Speichern mit Python angeschaut haben, stellt sich die Frage, welche Berechnungen wir mit diesen Variablen druchführen können. "
      ]
    },
    {
      "cell_type": "markdown",
      "metadata": {
        "id": "FeTBKQdKos7Z",
        "colab_type": "text"
      },
      "source": [
        "#### 2. Grundlegende Operationen"
      ]
    },
    {
      "cell_type": "code",
      "metadata": {
        "id": "tWTioaubos7b",
        "colab_type": "code",
        "colab": {},
        "outputId": "246746c2-594c-47b4-8d08-e5c190bab43c"
      },
      "source": [
        "# Für int und float\n",
        "\n",
        "# addieren\n",
        "preis_manuell + 1000\n",
        "\n",
        "# substrahieren \n",
        "preis_manuell - 1000\n",
        "\n",
        "# multiplizieren \n",
        "2*3.14*drehmoment*ps_anzahl \n",
        "\n",
        "# dividieren\n",
        "preis_manuell/ps_anzahl \n",
        "\n",
        "# vergleichen \n",
        "preis_manuell == preis_automatik\n",
        "preis_manuell < preis_automatik\n",
        "preis_manuell <= preis_automatik\n",
        "preis_manuell > preis_automatik\n",
        "preis_manuell >= preis_automatik"
      ],
      "execution_count": null,
      "outputs": [
        {
          "output_type": "execute_result",
          "data": {
            "text/plain": [
              "False"
            ]
          },
          "metadata": {
            "tags": []
          },
          "execution_count": 20
        }
      ]
    },
    {
      "cell_type": "code",
      "metadata": {
        "id": "4AuEg-09os7r",
        "colab_type": "code",
        "colab": {}
      },
      "source": [
        "# Für String \n",
        "\n",
        "#Konkatenation: Zusammenfügen der Elemente ohne Verändern der Reihenfolge.\n",
        "hersteller_modell = hersteller + modell\n",
        "\n",
        "#Wiederholung\n",
        "zu_viele= hersteller*4"
      ],
      "execution_count": null,
      "outputs": []
    },
    {
      "cell_type": "markdown",
      "metadata": {
        "id": "uxWyZN1Xr1Kr",
        "colab_type": "text"
      },
      "source": [
        "**Aufgabe2:**\n",
        "1. Das BMI eines Menschen lässt sich gemäß folgender Formel berechnen: BMI = (Körpergewicht) durch (Größe zum Quadrat). Erstellt die dazu benötigten Variablen und berechnet das eigene BMI. "
      ]
    },
    {
      "cell_type": "markdown",
      "metadata": {
        "id": "6xjje7jXos73",
        "colab_type": "text"
      },
      "source": [
        "#### 3. Funktionen"
      ]
    },
    {
      "cell_type": "markdown",
      "metadata": {
        "id": "5tCvdpIVos76",
        "colab_type": "text"
      },
      "source": [
        "Manchmal wird eine bestimmte Reihenfolge an Operationen mehrfach gebraucht, um ein bestimmtes Porblem zu lösen. z.B. das Fahren eines Autos setzt voraus, dass man die Autotür aufmacht, das Auto anschaltet, aufs Gaspedal drückt, und am Lenkrad dreht. In sehr vielen Situation ist diese Reihenfolge fast unverändert, und kann als Routine bezeichnet werden. In Python (und alle anderen Programmiersprachen), werden Routinen auch Funktionen genannt. Dazu müssen wir dem Interpreter/ Compiler signalisieren, dass wir eine Reihnenfolge an Operationen in eine Funktion zusammenstellen wollen.  \n",
        "\n",
        "Funktionen durchlaufen zwei Schritte \n",
        "- Deklaration: hier wird die Funktion nur deklariert. Nichts wird ausgeführt, sondern es ist eine Art Bekanntmachung \n",
        "- Ausdruck: hier wird die Funktion ausgeführt."
      ]
    },
    {
      "cell_type": "code",
      "metadata": {
        "id": "H0_GZCH4os77",
        "colab_type": "code",
        "colab": {}
      },
      "source": [
        "#Deklaration\n",
        "\n",
        "def fahren():\n",
        "    autotür_offen = True\n",
        "    auto_an= True\n",
        "    gaspedal = 20\n",
        "    lenkrad = 0.3"
      ],
      "execution_count": null,
      "outputs": []
    },
    {
      "cell_type": "markdown",
      "metadata": {
        "id": "-OMQf4IRos8E",
        "colab_type": "text"
      },
      "source": [
        "Funktionen sind ein mächtiges Werkzeug, und können tatsächlich als eine Blackbox dargestellt werden, die Eingänge und Ausgänge aufweist. "
      ]
    },
    {
      "cell_type": "code",
      "metadata": {
        "id": "b2oce4L5os8F",
        "colab_type": "code",
        "colab": {}
      },
      "source": [
        "# Funktion mit Eingang: die Begriffe param1 und param2 haben keine Bedeutung und sind nur Platzhalter\n",
        "# für den tatsächlichen Wert. Damit teilen wir dem Interpreter mit, wenn diese Funktion aufgerufen wird,\n",
        "#erwarten wir zwei Eingänge und zwar in der Reihenfolge param1 und param2.\n",
        "\n",
        "#Deklaration \n",
        "\n",
        "def fahren_in(param1, param2):\n",
        "    autotür_offen= param1\n",
        "    auto_an= param2\n",
        "    gaspedal= 20\n",
        "    lenkrad= 0.3"
      ],
      "execution_count": null,
      "outputs": []
    },
    {
      "cell_type": "markdown",
      "metadata": {
        "id": "bQffd5RIos8N",
        "colab_type": "text"
      },
      "source": [
        "Ein wichtiges Beispiel hierfür ist die print() Funktion "
      ]
    },
    {
      "cell_type": "code",
      "metadata": {
        "id": "UioTh4ZAos8O",
        "colab_type": "code",
        "colab": {},
        "outputId": "7f63db94-d794-4593-8e69-1552dd46fa76"
      },
      "source": [
        "# Ausdruck \n",
        "\n",
        "print('Hello World')"
      ],
      "execution_count": null,
      "outputs": [
        {
          "output_type": "stream",
          "text": [
            "Hello World\n"
          ],
          "name": "stdout"
        }
      ]
    },
    {
      "cell_type": "code",
      "metadata": {
        "id": "ie58W6h3os8U",
        "colab_type": "code",
        "colab": {}
      },
      "source": [
        "# Funktion mit Eingang und Ausgang\n",
        "\n",
        "#Deklaration\n",
        "\n",
        "def fahren_in_ou(param1, param2):\n",
        "    autotür_offen= param1\n",
        "    auto_an= param2\n",
        "    gaspedal= 20\n",
        "    lenkrad= 0.3\n",
        "    return gaspedal"
      ],
      "execution_count": null,
      "outputs": []
    },
    {
      "cell_type": "code",
      "metadata": {
        "id": "0amNs5Ffos8Z",
        "colab_type": "code",
        "colab": {},
        "outputId": "83cc00c0-dc17-4b02-9fae-6908493db0d7"
      },
      "source": [
        "# Ausdruck\n",
        "fahren_in_ou(True, True)"
      ],
      "execution_count": null,
      "outputs": [
        {
          "output_type": "execute_result",
          "data": {
            "text/plain": [
              "20"
            ]
          },
          "metadata": {
            "tags": []
          },
          "execution_count": 43
        }
      ]
    },
    {
      "cell_type": "code",
      "metadata": {
        "id": "wkzPza1Gos8g",
        "colab_type": "code",
        "colab": {}
      },
      "source": [
        "# Wenn eine Funktion einen Ausgang produziert (return-statement), können wir diesen in einer Variable \n",
        "#speichern\n",
        "\n",
        "gaspedal = fahren_in_ou(True, True)"
      ],
      "execution_count": null,
      "outputs": []
    },
    {
      "cell_type": "code",
      "metadata": {
        "id": "E1WPYFaKos8m",
        "colab_type": "code",
        "colab": {},
        "outputId": "e45ab6bb-5924-44a6-cc93-297860e6e3f7"
      },
      "source": [
        "gaspedal"
      ],
      "execution_count": null,
      "outputs": [
        {
          "output_type": "execute_result",
          "data": {
            "text/plain": [
              "20"
            ]
          },
          "metadata": {
            "tags": []
          },
          "execution_count": 45
        }
      ]
    },
    {
      "cell_type": "markdown",
      "metadata": {
        "id": "RFOayXzYos8r",
        "colab_type": "text"
      },
      "source": [
        "Ganz wichtig ist das sogenannte Scope (Umfang) einer Variable. \n",
        "1. Eine Funktion ist ein in sich abgeschlossenes System. Das bedeutet, interne Variablen sind nur innerhalb der Funktion sichtbar und sind für den Rest des Codes grundsätlich unsichtbar.\n",
        "2. Interpreter durchlaufen den Code eine Zeile nach der anderen von oben nach unten und führen die entsprechenden Befehle aus. Eine Variable oder eine Funktion, die erst in Zeile 3 deklariert wird erkennt der Interpret in Zeile 2 nicht.  "
      ]
    },
    {
      "cell_type": "markdown",
      "metadata": {
        "id": "7p_AOnIPs1Rq",
        "colab_type": "text"
      },
      "source": [
        "**Aufgabe3:**\n",
        "1. In Aufgabe 2 habt ihr das eigene BMI berechnet. In dieser Aufgabe werdet ihr eine Funktion deklarieren, die für jeden Menschen das BMI berechnen und ausgeben kann. "
      ]
    },
    {
      "cell_type": "markdown",
      "metadata": {
        "id": "nELt7SN9os8t",
        "colab_type": "text"
      },
      "source": [
        "#### 4. Ablaufsteuerung"
      ]
    },
    {
      "cell_type": "markdown",
      "metadata": {
        "id": "ztNnnXI8os8v",
        "colab_type": "text"
      },
      "source": [
        "Was wäre wenn wir eine Bedingung haben, die erstmal geprüft werden muss, bevor unser Code ausgeführt werden darf. z.B. bevor wir Auto fahren, müssen wir sicherstellen, dass die Batterie des Fahrzeuges genug geladen ist. \n",
        "Dazu nutzen wir if-Schleifen"
      ]
    },
    {
      "cell_type": "code",
      "metadata": {
        "id": "pYWvNEpcos8w",
        "colab_type": "code",
        "colab": {}
      },
      "source": [
        "def warning():\n",
        "    print('Fahrzeug muss geladen werden.')"
      ],
      "execution_count": null,
      "outputs": []
    },
    {
      "cell_type": "code",
      "metadata": {
        "id": "FJrtVWlHos82",
        "colab_type": "code",
        "colab": {},
        "outputId": "bf2215ea-7063-4612-fb2f-86203330b6b0"
      },
      "source": [
        "# der Azfbau einer if-Schleife ist intuitiv\n",
        "genug_getankt= True\n",
        "\n",
        "if genug_getankt:\n",
        "    print('Wird gefahren. ')\n",
        "    fahren()\n",
        "else: \n",
        "    warning()\n",
        "    \n",
        "# Ganz wichtig: Bedingungen in verschiedenen Stufen der If-Schleife (if , else.. ) müssen sich \n",
        "# gegenseitig ausschließen und dürfen nicht gleichzeitig eintreten. "
      ],
      "execution_count": null,
      "outputs": [
        {
          "output_type": "stream",
          "text": [
            "Wird gefahren. \n"
          ],
          "name": "stdout"
        }
      ]
    },
    {
      "cell_type": "markdown",
      "metadata": {
        "id": "oAekcCQTos88",
        "colab_type": "text"
      },
      "source": [
        "Wenn zwei Bedingungen relevant für die Entscheidung sind und schließen sich gegenseitig nicht aus, müssen sie in der gleichen Stufen der If-Schleife aufgeführt werden, und mit einem entsprechenden Operator verknüpft werden."
      ]
    },
    {
      "cell_type": "code",
      "metadata": {
        "id": "UOUxFQ3cos89",
        "colab_type": "code",
        "colab": {},
        "outputId": "f568af9a-4d72-44a3-8626-db7a89c62448"
      },
      "source": [
        "# Alle Bedingungen müssen gleichzeitig erfüllt werden. \n",
        "genug_getankt= True\n",
        "gutes_wetter= True\n",
        "\n",
        "if genug_getankt and gutes_wetter:\n",
        "    print('Wird gefahren. ')\n",
        "    fahren()\n",
        "else: \n",
        "    warning()"
      ],
      "execution_count": null,
      "outputs": [
        {
          "output_type": "stream",
          "text": [
            "Wird gefahren. \n"
          ],
          "name": "stdout"
        }
      ]
    },
    {
      "cell_type": "code",
      "metadata": {
        "id": "6n9Piq2Mos9E",
        "colab_type": "code",
        "colab": {},
        "outputId": "fe73979c-cae9-44b8-d48b-381addba7a29"
      },
      "source": [
        "# Mindestens eine der Bedingungen muss erfüllt werden\n",
        "\n",
        "genug_getankt= True\n",
        "gutes_wetter= False\n",
        "\n",
        "if genug_getankt or gutes_wetter:\n",
        "    print('Wird gefahren. ')\n",
        "    fahren()\n",
        "else: \n",
        "    warning()"
      ],
      "execution_count": null,
      "outputs": [
        {
          "output_type": "stream",
          "text": [
            "Wird gefahren. \n"
          ],
          "name": "stdout"
        }
      ]
    },
    {
      "cell_type": "markdown",
      "metadata": {
        "id": "-8nV3vynos9K",
        "colab_type": "text"
      },
      "source": [
        "Folgende Wahrheitstabelle fasst zusammen, wie Bedingungen miteinander verknüpft werden können. Andere Formen gibt es auch, sind für uns jedoch erstmal irrelevant. "
      ]
    },
    {
      "cell_type": "markdown",
      "metadata": {
        "id": "188mgBj-os9L",
        "colab_type": "text"
      },
      "source": [
        "<center><img src='https://www.onlinemathlearning.com/image-files/truth-table.png'></center>\n",
        "\n",
        "Quelle: Online Math Learning\n"
      ]
    },
    {
      "cell_type": "markdown",
      "metadata": {
        "id": "DFsSTrNEtjdY",
        "colab_type": "text"
      },
      "source": [
        "**Aufgabe 4**\n",
        "1. Die in Aufgabe3 deklarierte Funktion kann schnell gehackt werden, indem z.B. ein Wert eingegeben wird, der keine Zahl darstellt oder eine Zahl, die keine richtige Größe oder Gewicht ist. Stellt sicher, dass diese Fälle miteinbezogen werden. \n",
        "2. Das BMI wird benutzt, um Menschen von untergewichtet bis zu fettleibig zu kategorisieren. Fügt die nötigen Befehle zum BMI-Rechner, damit je nach BMI-Wert angegeben wird, welcher Kategorie ein Mensch hinzugehört. \n",
        "Auf dem Folgenden [Link](https://i.pinimg.com/originals/43/02/78/43027859ffc527f9bcb0b61a4852d795.jpg) sind die verschiedene Kategorien zu finden"
      ]
    },
    {
      "cell_type": "markdown",
      "metadata": {
        "id": "3fn5Slplos9M",
        "colab_type": "text"
      },
      "source": [
        "#### 5. Iterationen"
      ]
    },
    {
      "cell_type": "markdown",
      "metadata": {
        "id": "a6IdvlB_os9N",
        "colab_type": "text"
      },
      "source": [
        "Wir wollen in diesem Schritt, dass uns für die nächsten 100km alle 5km eine Anzeige mt dem bisher zurückgelgten Weg erscheint. Wenn über eine bestimmte Anzahl an Schritten bestimmte Anweisungen durchgeführt werden, setzen wir auf For- und While-Schleifen. "
      ]
    },
    {
      "cell_type": "code",
      "metadata": {
        "id": "JNGRp6Yyos9O",
        "colab_type": "code",
        "colab": {}
      },
      "source": [
        "weg_bisher= 0\n",
        "for i in range(101):\n",
        "    if i%5 == 0:\n",
        "        weg_bisher = i \n",
        "        #print('Der bisher zurückgelegte Weg ist: ', weg_bisher)\n",
        "    else:\n",
        "        pass\n"
      ],
      "execution_count": null,
      "outputs": []
    },
    {
      "cell_type": "code",
      "metadata": {
        "id": "mo-MSpHWos9T",
        "colab_type": "code",
        "colab": {}
      },
      "source": [
        "weg_bisher = 0\n",
        "i = 0 \n",
        "while (i<96):\n",
        "    i= i+5\n",
        "    weg_bisher= i\n",
        "    #print('Der bisher zurückgelegte Weg ist: ', weg_bisher)\n",
        "    "
      ],
      "execution_count": null,
      "outputs": []
    },
    {
      "cell_type": "markdown",
      "metadata": {
        "id": "umzsa46IvAIG",
        "colab_type": "text"
      },
      "source": [
        "**Aufgabe5**\n",
        "1. Erstellt eine For-Schleife, die folgendes Muster anzeigt:\n",
        "+++++++\\\n",
        "+++++++\\\n",
        "+++++++\n",
        "2. Erstellt eine While-Schlife, die dasselbe Output hat. "
      ]
    },
    {
      "cell_type": "markdown",
      "metadata": {
        "id": "XaA5GD_Kos9Y",
        "colab_type": "text"
      },
      "source": [
        "Damit sind die wichtigsten Grundlagen abgedeckt. Alle Programmiersprachen verfügen über die oben aufgeführten Bestandteile, und unterscheiden sich nur in Details der Implimentierung. "
      ]
    },
    {
      "cell_type": "markdown",
      "metadata": {
        "id": "Xet8oaOxos9Z",
        "colab_type": "text"
      },
      "source": [
        "#### Mini-Bibliotheken"
      ]
    },
    {
      "cell_type": "markdown",
      "metadata": {
        "id": "G0Ph1NMDos9a",
        "colab_type": "text"
      },
      "source": [
        "Wir wollen jetzt eine Bibliothek erstellen, die 'transportmittel' heißt, und modelliert, wie der Name schon sagt, verschiedene Transportmittel wie Autos, Schiffe, Flugzeuge, etc.\n",
        "Ein Weg dies zu machen ist für jedes Transportmittel eine eigene Bibliothek zu erstellen, und diese dann irgendwie zu einem Ganzen zusammenzuführen. Dies könnte sich jedoch in der Praxis als sehr aufwendig erweisen, und würde auch die Übersichtlichkeit einer Programmiersprache schnell durcheinanderbringen. \n",
        "\n",
        "Viele moderne Sprachen setzen ein Pradigma ein, bei dem auch Bibliotheken in kleineren 'Mini-Bibliotheken' aufgeteilt werden. Der Fachbegriff für Mini-Bibliotheken ist 'Klasse' (engl. class). Eine Klasse fasst Variablen und Funktionen zusammen, die gemeinsam einen Zweck erfüllen.    "
      ]
    },
    {
      "cell_type": "markdown",
      "metadata": {
        "id": "hHVY-8_1os9b",
        "colab_type": "text"
      },
      "source": [
        "Damit wir dem Interpreter signalisieren, dass wir eine Mini-Bibliothek (= Klasse) in unserer Bibliothek erstellen wollen, wird folgende Syntax angewendet. "
      ]
    },
    {
      "cell_type": "code",
      "metadata": {
        "id": "9PjsXPQyos9c",
        "colab_type": "code",
        "colab": {}
      },
      "source": [
        "class Auto():\n",
        "    def __init__(self, modell):\n",
        "        self.modell = modell\n",
        "        \n",
        "    def check_model(self):\n",
        "        print('Das Modell dieses Autos ist', self.modell)\n"
      ],
      "execution_count": null,
      "outputs": []
    },
    {
      "cell_type": "code",
      "metadata": {
        "id": "JFWeCt38os9i",
        "colab_type": "code",
        "colab": {}
      },
      "source": [
        "auto1= Auto('AMG')\n",
        "\n",
        "auto2 = Auto('Mustang')\n",
        "\n",
        "auto3= Auto('BMW i7')"
      ],
      "execution_count": null,
      "outputs": []
    },
    {
      "cell_type": "code",
      "metadata": {
        "id": "RfBrr-Z2os9m",
        "colab_type": "code",
        "colab": {
          "base_uri": "https://localhost:8080/",
          "height": 203
        },
        "outputId": "da3eca7a-8b7a-4b9a-cf53-0966cce0ccb6"
      },
      "source": [
        "auto1.check_model()\n",
        "auto2.check_model()\n",
        "auto3.check_model()"
      ],
      "execution_count": 1,
      "outputs": [
        {
          "output_type": "error",
          "ename": "NameError",
          "evalue": "ignored",
          "traceback": [
            "\u001b[0;31m---------------------------------------------------------------------------\u001b[0m",
            "\u001b[0;31mNameError\u001b[0m                                 Traceback (most recent call last)",
            "\u001b[0;32m<ipython-input-1-a6b3724fb869>\u001b[0m in \u001b[0;36m<module>\u001b[0;34m()\u001b[0m\n\u001b[0;32m----> 1\u001b[0;31m \u001b[0mauto1\u001b[0m\u001b[0;34m.\u001b[0m\u001b[0mcheck_model\u001b[0m\u001b[0;34m(\u001b[0m\u001b[0;34m)\u001b[0m\u001b[0;34m\u001b[0m\u001b[0;34m\u001b[0m\u001b[0m\n\u001b[0m\u001b[1;32m      2\u001b[0m \u001b[0mauto2\u001b[0m\u001b[0;34m.\u001b[0m\u001b[0mcheck_model\u001b[0m\u001b[0;34m(\u001b[0m\u001b[0;34m)\u001b[0m\u001b[0;34m\u001b[0m\u001b[0;34m\u001b[0m\u001b[0m\n\u001b[1;32m      3\u001b[0m \u001b[0mauto3\u001b[0m\u001b[0;34m.\u001b[0m\u001b[0mcheck_model\u001b[0m\u001b[0;34m(\u001b[0m\u001b[0;34m)\u001b[0m\u001b[0;34m\u001b[0m\u001b[0;34m\u001b[0m\u001b[0m\n",
            "\u001b[0;31mNameError\u001b[0m: name 'auto1' is not defined"
          ]
        }
      ]
    },
    {
      "cell_type": "markdown",
      "metadata": {
        "id": "7D_A-YidwwGc",
        "colab_type": "text"
      },
      "source": [
        "**Aufgabe6**\n",
        "1. Erstellt eine Klasse 'Mensch', die Namen, Alter, Gewicht und Größe als Attribute annimmt, und eine Methode BMI-Rechner besitzt. \n",
        "2. Erstellt ein Objekt, mit folgenden Charakteristika:\n",
        " - Ronaldo\n",
        " - Christiano \n",
        " - 189 cm\n",
        " - 87 kg\n",
        "3. Erstellt ein weiteres Objekt:\n",
        "  - Williams\n",
        "  - Serena\n",
        "  - 175 cm\n",
        "  - 70 kg\n",
        "\n",
        "(Mit Absicht fehlen Angaben in der Aufgabe)"
      ]
    },
    {
      "cell_type": "code",
      "metadata": {
        "id": "XaUyzZIOyGAe",
        "colab_type": "code",
        "colab": {}
      },
      "source": [
        ""
      ],
      "execution_count": null,
      "outputs": []
    }
  ]
}