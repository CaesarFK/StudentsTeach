{
  "nbformat": 4,
  "nbformat_minor": 0,
  "metadata": {
    "kernelspec": {
      "display_name": "Python 3",
      "language": "python",
      "name": "python3"
    },
    "language_info": {
      "codemirror_mode": {
        "name": "ipython",
        "version": 3
      },
      "file_extension": ".py",
      "mimetype": "text/x-python",
      "name": "python",
      "nbconvert_exporter": "python",
      "pygments_lexer": "ipython3",
      "version": "3.7.7"
    },
    "colab": {
      "name": "ml_crashcourse.ipynb",
      "provenance": [],
      "toc_visible": true,
      "include_colab_link": true
    }
  },
  "cells": [
    {
      "cell_type": "markdown",
      "metadata": {
        "id": "view-in-github",
        "colab_type": "text"
      },
      "source": [
        "<a href=\"https://colab.research.google.com/github/kasdallahF/StudentsTeach/blob/master/ml_crashcourse.ipynb\" target=\"_parent\"><img src=\"https://colab.research.google.com/assets/colab-badge.svg\" alt=\"Open In Colab\"/></a>"
      ]
    },
    {
      "cell_type": "markdown",
      "metadata": {
        "id": "fPgJE51GsiOU",
        "colab_type": "text"
      },
      "source": [
        "<center><h1>Einführung ins maschinelle Lernen</h1></center>"
      ]
    },
    {
      "cell_type": "markdown",
      "metadata": {
        "id": "PPRK6WHd6HLf",
        "colab_type": "text"
      },
      "source": [
        "#### 0. Ziele"
      ]
    },
    {
      "cell_type": "markdown",
      "metadata": {
        "id": "UcM-ZFRb6Klb",
        "colab_type": "text"
      },
      "source": [
        "Die heutige Sitzung hat die drei folgenden Ziele:\n",
        "* Grundverständnis für maschinelles Lernen und KI zu schaffen.\n",
        "* Überblick über den Ablauf eines ML-Projektes zu vermitteln. \n",
        "* Erste Programmiererfahrung mit lernenden Systemen zu ermöglichen."
      ]
    },
    {
      "cell_type": "markdown",
      "metadata": {
        "id": "yphOLxzdsiOV",
        "colab_type": "text"
      },
      "source": [
        "#### 1. Künstliche Intelligenz und Machine Learning"
      ]
    },
    {
      "cell_type": "markdown",
      "metadata": {
        "id": "BjNKfpO_siOW",
        "colab_type": "text"
      },
      "source": [
        "**Künstliche Intelligenz**"
      ]
    },
    {
      "cell_type": "markdown",
      "metadata": {
        "id": "Msqhz7WHsiOX",
        "colab_type": "text"
      },
      "source": [
        "Künstliche Intelligenz stellt ein Oberbegriff dar, der jene Systeme umfasst, die den menschlichen Entscheidungsprozess simulieren bzw. nachahmen können. "
      ]
    },
    {
      "cell_type": "markdown",
      "metadata": {
        "id": "nBV2MXnhsiOX",
        "colab_type": "text"
      },
      "source": [
        "Das Konzept der Intelligenz ist an sich nicht eindeutig definiert, und deshalb ist eine klare Abgrenzung von KI (noch) nicht realisierbar."
      ]
    },
    {
      "cell_type": "markdown",
      "metadata": {
        "id": "6l_l7jGYsiOY",
        "colab_type": "text"
      },
      "source": [
        "KI unterteilt sich grob in <font color='green'>starke KI</font> und <font color='green'>schwache KI</font>"
      ]
    },
    {
      "cell_type": "markdown",
      "metadata": {
        "id": "E9IzFVSosiOY",
        "colab_type": "text"
      },
      "source": [
        "* starke KI (engl. strong AI): besitzt menschliche intellektuelle Fähigkeiten, und ist flexibel (Allzweck-KI).  \n",
        "* schwache KI (engl. weak AI): lösen konkrete Aufgabenstellungen auf Basis von für das vorliegende Problem optimierten Methoden und Verfahren. "
      ]
    },
    {
      "cell_type": "markdown",
      "metadata": {
        "id": "eYT1_HXEsiOZ",
        "colab_type": "text"
      },
      "source": [
        "[[KI-Realität](https://drive.google.com/file/d/1bzPxxnGS0i_HgQDCW7nqjrNB8MZmCP_s/view?usp=sharing)]"
      ]
    },
    {
      "cell_type": "markdown",
      "metadata": {
        "id": "gszkAulzsiOZ",
        "colab_type": "text"
      },
      "source": [
        "**Machine Learning**"
      ]
    },
    {
      "cell_type": "code",
      "metadata": {
        "id": "CLordmmrs9R-",
        "colab_type": "code",
        "colab": {
          "base_uri": "https://localhost:8080/",
          "height": 55
        },
        "outputId": "9f0c9a29-5c8d-476a-fbee-705bab865226"
      },
      "source": [
        "from google.colab import drive\n",
        "drive.mount('/content/drive')"
      ],
      "execution_count": null,
      "outputs": [
        {
          "output_type": "stream",
          "text": [
            "Drive already mounted at /content/drive; to attempt to forcibly remount, call drive.mount(\"/content/drive\", force_remount=True).\n"
          ],
          "name": "stdout"
        }
      ]
    },
    {
      "cell_type": "markdown",
      "metadata": {
        "id": "x0LWQOuKsiOa",
        "colab_type": "text"
      },
      "source": [
        "Machine Learning ist eine Subkategorie bzw. ein Teilgebiet der schwachen KI. Es ist von daher wichtig zu erkennen, dass ML-Methoden aufgabenspezifisch sind."
      ]
    },
    {
      "cell_type": "markdown",
      "metadata": {
        "id": "Lo_nQv1wsiOa",
        "colab_type": "text"
      },
      "source": [
        "Maschinelles Lernen kann als die künstliche Generierung von Wissen aus Erfahrung definiert werden. [Wikipedia]"
      ]
    },
    {
      "cell_type": "markdown",
      "metadata": {
        "id": "-y_Dtyg8siOb",
        "colab_type": "text"
      },
      "source": [
        "Die Erfahrung, aus der das System lernen soll, kann in 4 groben Kategorien unterteilt werden:\n",
        "* Überwachtes Lernen (engl. supervised learning)\n",
        "* Unüberwachtes Lernen (engl. unsupervised learning)\n",
        "* Semi-überwachtes Lernen (engl. semisupervised learning)\n",
        "* Bestärkendes Lernen (engl. reinforcement learning)"
      ]
    },
    {
      "cell_type": "markdown",
      "metadata": {
        "id": "ScYvJ_XmsiOc",
        "colab_type": "text"
      },
      "source": [
        "Die in der Industrie und Forschung meist verbreitete Erfahrungskategorie ist die des überwachten Lernens. "
      ]
    },
    {
      "cell_type": "markdown",
      "metadata": {
        "id": "wJy_VV1SsiOc",
        "colab_type": "text"
      },
      "source": [
        "#### 2. Die Grundidee des überwachten maschinellen Lernens"
      ]
    },
    {
      "cell_type": "markdown",
      "metadata": {
        "id": "xG_mAxBlsiOd",
        "colab_type": "text"
      },
      "source": [
        "Die zwei zentralen Aufgaben eines ML-Projektes sind:\n",
        "* Regression\n",
        "* Klassifikation\n",
        "\n",
        "In der heutigen Sitzung werden wir uns mit der Regression auseinandersetzen. Nächstes Mal werden wir die Klassifikation behandeln. "
      ]
    },
    {
      "cell_type": "markdown",
      "metadata": {
        "id": "aTZ1ygRMsiOd",
        "colab_type": "text"
      },
      "source": [
        "Grundsätzlich für das überwachte Lernen ist die Annahme, dass es eine mathematische Funktion existiert, die den vorhandenen Datensatz perfekt beschreiben kann. Die Aufgabe des Algorithmus ist es von daher, diese Funtkion (wir nennen sie Zielfunktion C) so gut wie möglich zu approximieren. Der Prozess ist dabei immer das Gleiche:\n",
        "da wir ja wissen welchen Wert die Zielfunktion C bei dem jeweiligen Datenpunkt annimt, können wir eine neue Funktion definieren (wir nennen sie Hypothese h), die den Datenpunkten am Anfang willkürliche Werte zuordnet, durch Vergleiche mit dem wahren Wert jedoch sich nach und nach verbessert, bis ein optimaler Zustand erreicht wird. "
      ]
    },
    {
      "cell_type": "markdown",
      "metadata": {
        "id": "O3mwfXHksiOe",
        "colab_type": "text"
      },
      "source": [
        "Folgende Animation verdeutlicht die oben beschriebene Zusammenhänge.\n",
        "https://hackernoon.com/visualizing-linear-regression-with-pytorch-9261f49edb09\n"
      ]
    },
    {
      "cell_type": "markdown",
      "metadata": {
        "id": "Rc4DKnlUsiOe",
        "colab_type": "text"
      },
      "source": [
        "#### 3. Vier einfache Bestandteile "
      ]
    },
    {
      "cell_type": "markdown",
      "metadata": {
        "id": "2WKjCre6siOf",
        "colab_type": "text"
      },
      "source": [
        "* **Daten**\n",
        "\n",
        "[Auto](https://drive.google.com/file/d/1y3qILizg9T2OzkRHO85lkdF7PG97ADA6/view?usp=sharing)"
      ]
    },
    {
      "cell_type": "markdown",
      "metadata": {
        "id": "G9d1TTcAsiOf",
        "colab_type": "text"
      },
      "source": [
        "* **Skeleton** \n",
        "\n",
        "In der Literatur wird das Skeleton als Modell bezeichnet. Im Falle der linearen Regression ist das Skeleton:"
      ]
    },
    {
      "cell_type": "markdown",
      "metadata": {
        "id": "6FO-9r9DsiOg",
        "colab_type": "text"
      },
      "source": [
        "$$ verkaufspreis= a_1 * kms-gefahren  + a_2* aktuellerpreis + b $$"
      ]
    },
    {
      "cell_type": "markdown",
      "metadata": {
        "id": "CjmZxFmjsiOg",
        "colab_type": "text"
      },
      "source": [
        "* **Verlustmetrik**"
      ]
    },
    {
      "cell_type": "markdown",
      "metadata": {
        "id": "jJe7PWeDsiOh",
        "colab_type": "text"
      },
      "source": [
        "Die Verlustmetrik gibt an, wie sehr sich die Zielfunktion C und die Hypothese h voneinander abweichen. Für lineare Regression ist die mittlere quadratische Abweichung gängig. \n",
        "<center><img src='https://lh3.googleusercontent.com/proxy/H0Z-f51l_3X_k2vtw6mhGKRd3c7n5qV9WfRuEjAF2C4QXl-YFvcrtKo-nEo-4H3sXPqP5PLA8ptHclIryOVp3ftdqqhm6VDlx7MX5l1NLz9dvYVLlA'></center>"
      ]
    },
    {
      "cell_type": "markdown",
      "metadata": {
        "id": "pAEFshz4siOh",
        "colab_type": "text"
      },
      "source": [
        "* **Optimierungsalgorithmus**\n",
        "\n",
        "Der Optimierungslaogithmus ist das Herzstück des Lernens. Anhand des berechneten Fehlers werden die Parameter der Hypothese h gesucht, für die der Fehlerwert minimal ist. Gradientenverfahren stellen eine weitverbreitete Familie an Methoden zum Lösen von Optimierungsproblemen dar. Das Grundprinzip wird anhand  des folgenden Bildes erklärt. "
      ]
    },
    {
      "cell_type": "markdown",
      "metadata": {
        "id": "d1l7MmEnsiOi",
        "colab_type": "text"
      },
      "source": [
        "[Gradient](https://drive.google.com/file/d/1_8XzgTx4BeXZ2PYXpvyLPSTYbw6fCWS-/view?usp=sharing)"
      ]
    },
    {
      "cell_type": "markdown",
      "metadata": {
        "id": "GoU-zLRfsiOi",
        "colab_type": "text"
      },
      "source": [
        "#### 4. Vier Phasen eines ML-Projektes "
      ]
    },
    {
      "cell_type": "markdown",
      "metadata": {
        "id": "xepqfowdsiOj",
        "colab_type": "text"
      },
      "source": [
        "* **Projektziele abklären**"
      ]
    },
    {
      "cell_type": "markdown",
      "metadata": {
        "id": "MkMrbFaosiOj",
        "colab_type": "text"
      },
      "source": [
        "* **Trainieren**"
      ]
    },
    {
      "cell_type": "markdown",
      "metadata": {
        "id": "y1fXykSSsiOk",
        "colab_type": "text"
      },
      "source": [
        "* **Testen**"
      ]
    },
    {
      "cell_type": "markdown",
      "metadata": {
        "id": "2x7S3otosiOl",
        "colab_type": "text"
      },
      "source": [
        "* **Einsetzen und pflegen**"
      ]
    },
    {
      "cell_type": "markdown",
      "metadata": {
        "id": "k9_6V2-IsiOl",
        "colab_type": "text"
      },
      "source": [
        "#### 5. Typischer Ablauf in der Trainingsphase"
      ]
    },
    {
      "cell_type": "markdown",
      "metadata": {
        "id": "h2-V0U0LsiOm",
        "colab_type": "text"
      },
      "source": [
        "* **Daten beschaffen**"
      ]
    },
    {
      "cell_type": "code",
      "metadata": {
        "id": "FvJrg-8PsiOo",
        "colab_type": "code",
        "colab": {}
      },
      "source": [
        "from sklearn.datasets import load_boston\n",
        "\n",
        "boston_dataset= load_boston()\n",
        "#dir(boston_dataset)\n",
        "#print(boston_dataset.DESCR)"
      ],
      "execution_count": null,
      "outputs": []
    },
    {
      "cell_type": "markdown",
      "metadata": {
        "id": "MBkrBJKlsiOr",
        "colab_type": "text"
      },
      "source": [
        "* **Daten untersuchen**"
      ]
    },
    {
      "cell_type": "code",
      "metadata": {
        "id": "zP-fsD5ksiOs",
        "colab_type": "code",
        "colab": {}
      },
      "source": [
        "import pandas as pd\n",
        "data = pd.DataFrame(data= boston_dataset.data, columns= boston_dataset.feature_names)\n",
        "data['PRICE']= boston_dataset.target"
      ],
      "execution_count": null,
      "outputs": []
    },
    {
      "cell_type": "code",
      "metadata": {
        "id": "6XMQY0jZsiOu",
        "colab_type": "code",
        "colab": {},
        "outputId": "1c4b6313-ca4c-441f-d20c-0a356929f64d"
      },
      "source": [
        "data.head()"
      ],
      "execution_count": null,
      "outputs": [
        {
          "output_type": "execute_result",
          "data": {
            "text/html": [
              "<div>\n",
              "<style scoped>\n",
              "    .dataframe tbody tr th:only-of-type {\n",
              "        vertical-align: middle;\n",
              "    }\n",
              "\n",
              "    .dataframe tbody tr th {\n",
              "        vertical-align: top;\n",
              "    }\n",
              "\n",
              "    .dataframe thead th {\n",
              "        text-align: right;\n",
              "    }\n",
              "</style>\n",
              "<table border=\"1\" class=\"dataframe\">\n",
              "  <thead>\n",
              "    <tr style=\"text-align: right;\">\n",
              "      <th></th>\n",
              "      <th>CRIM</th>\n",
              "      <th>ZN</th>\n",
              "      <th>INDUS</th>\n",
              "      <th>CHAS</th>\n",
              "      <th>NOX</th>\n",
              "      <th>RM</th>\n",
              "      <th>AGE</th>\n",
              "      <th>DIS</th>\n",
              "      <th>RAD</th>\n",
              "      <th>TAX</th>\n",
              "      <th>PTRATIO</th>\n",
              "      <th>B</th>\n",
              "      <th>LSTAT</th>\n",
              "      <th>PRICE</th>\n",
              "    </tr>\n",
              "  </thead>\n",
              "  <tbody>\n",
              "    <tr>\n",
              "      <th>0</th>\n",
              "      <td>0.00632</td>\n",
              "      <td>18.0</td>\n",
              "      <td>2.31</td>\n",
              "      <td>0.0</td>\n",
              "      <td>0.538</td>\n",
              "      <td>6.575</td>\n",
              "      <td>65.2</td>\n",
              "      <td>4.0900</td>\n",
              "      <td>1.0</td>\n",
              "      <td>296.0</td>\n",
              "      <td>15.3</td>\n",
              "      <td>396.90</td>\n",
              "      <td>4.98</td>\n",
              "      <td>24.0</td>\n",
              "    </tr>\n",
              "    <tr>\n",
              "      <th>1</th>\n",
              "      <td>0.02731</td>\n",
              "      <td>0.0</td>\n",
              "      <td>7.07</td>\n",
              "      <td>0.0</td>\n",
              "      <td>0.469</td>\n",
              "      <td>6.421</td>\n",
              "      <td>78.9</td>\n",
              "      <td>4.9671</td>\n",
              "      <td>2.0</td>\n",
              "      <td>242.0</td>\n",
              "      <td>17.8</td>\n",
              "      <td>396.90</td>\n",
              "      <td>9.14</td>\n",
              "      <td>21.6</td>\n",
              "    </tr>\n",
              "    <tr>\n",
              "      <th>2</th>\n",
              "      <td>0.02729</td>\n",
              "      <td>0.0</td>\n",
              "      <td>7.07</td>\n",
              "      <td>0.0</td>\n",
              "      <td>0.469</td>\n",
              "      <td>7.185</td>\n",
              "      <td>61.1</td>\n",
              "      <td>4.9671</td>\n",
              "      <td>2.0</td>\n",
              "      <td>242.0</td>\n",
              "      <td>17.8</td>\n",
              "      <td>392.83</td>\n",
              "      <td>4.03</td>\n",
              "      <td>34.7</td>\n",
              "    </tr>\n",
              "    <tr>\n",
              "      <th>3</th>\n",
              "      <td>0.03237</td>\n",
              "      <td>0.0</td>\n",
              "      <td>2.18</td>\n",
              "      <td>0.0</td>\n",
              "      <td>0.458</td>\n",
              "      <td>6.998</td>\n",
              "      <td>45.8</td>\n",
              "      <td>6.0622</td>\n",
              "      <td>3.0</td>\n",
              "      <td>222.0</td>\n",
              "      <td>18.7</td>\n",
              "      <td>394.63</td>\n",
              "      <td>2.94</td>\n",
              "      <td>33.4</td>\n",
              "    </tr>\n",
              "    <tr>\n",
              "      <th>4</th>\n",
              "      <td>0.06905</td>\n",
              "      <td>0.0</td>\n",
              "      <td>2.18</td>\n",
              "      <td>0.0</td>\n",
              "      <td>0.458</td>\n",
              "      <td>7.147</td>\n",
              "      <td>54.2</td>\n",
              "      <td>6.0622</td>\n",
              "      <td>3.0</td>\n",
              "      <td>222.0</td>\n",
              "      <td>18.7</td>\n",
              "      <td>396.90</td>\n",
              "      <td>5.33</td>\n",
              "      <td>36.2</td>\n",
              "    </tr>\n",
              "  </tbody>\n",
              "</table>\n",
              "</div>"
            ],
            "text/plain": [
              "      CRIM    ZN  INDUS  CHAS    NOX     RM   AGE     DIS  RAD    TAX  \\\n",
              "0  0.00632  18.0   2.31   0.0  0.538  6.575  65.2  4.0900  1.0  296.0   \n",
              "1  0.02731   0.0   7.07   0.0  0.469  6.421  78.9  4.9671  2.0  242.0   \n",
              "2  0.02729   0.0   7.07   0.0  0.469  7.185  61.1  4.9671  2.0  242.0   \n",
              "3  0.03237   0.0   2.18   0.0  0.458  6.998  45.8  6.0622  3.0  222.0   \n",
              "4  0.06905   0.0   2.18   0.0  0.458  7.147  54.2  6.0622  3.0  222.0   \n",
              "\n",
              "   PTRATIO       B  LSTAT  PRICE  \n",
              "0     15.3  396.90   4.98   24.0  \n",
              "1     17.8  396.90   9.14   21.6  \n",
              "2     17.8  392.83   4.03   34.7  \n",
              "3     18.7  394.63   2.94   33.4  \n",
              "4     18.7  396.90   5.33   36.2  "
            ]
          },
          "metadata": {
            "tags": []
          },
          "execution_count": 51
        }
      ]
    },
    {
      "cell_type": "code",
      "metadata": {
        "id": "oe0xmisQsiOx",
        "colab_type": "code",
        "colab": {},
        "outputId": "187e2a57-d62e-44c5-d31a-fb06c0ef882f"
      },
      "source": [
        "data.info()"
      ],
      "execution_count": null,
      "outputs": [
        {
          "output_type": "stream",
          "text": [
            "<class 'pandas.core.frame.DataFrame'>\n",
            "RangeIndex: 506 entries, 0 to 505\n",
            "Data columns (total 14 columns):\n",
            " #   Column   Non-Null Count  Dtype  \n",
            "---  ------   --------------  -----  \n",
            " 0   CRIM     506 non-null    float64\n",
            " 1   ZN       506 non-null    float64\n",
            " 2   INDUS    506 non-null    float64\n",
            " 3   CHAS     506 non-null    float64\n",
            " 4   NOX      506 non-null    float64\n",
            " 5   RM       506 non-null    float64\n",
            " 6   AGE      506 non-null    float64\n",
            " 7   DIS      506 non-null    float64\n",
            " 8   RAD      506 non-null    float64\n",
            " 9   TAX      506 non-null    float64\n",
            " 10  PTRATIO  506 non-null    float64\n",
            " 11  B        506 non-null    float64\n",
            " 12  LSTAT    506 non-null    float64\n",
            " 13  PRICE    506 non-null    float64\n",
            "dtypes: float64(14)\n",
            "memory usage: 55.5 KB\n"
          ],
          "name": "stdout"
        }
      ]
    },
    {
      "cell_type": "code",
      "metadata": {
        "id": "Ut28dfJSsiO0",
        "colab_type": "code",
        "colab": {},
        "outputId": "44f9a2f6-87bd-4355-afcc-35ae5774ee1b"
      },
      "source": [
        "data.describe()\n",
        "\n",
        "#Anzahl, Mittelwert, Standardabweichung, Quantil"
      ],
      "execution_count": null,
      "outputs": [
        {
          "output_type": "execute_result",
          "data": {
            "text/html": [
              "<div>\n",
              "<style scoped>\n",
              "    .dataframe tbody tr th:only-of-type {\n",
              "        vertical-align: middle;\n",
              "    }\n",
              "\n",
              "    .dataframe tbody tr th {\n",
              "        vertical-align: top;\n",
              "    }\n",
              "\n",
              "    .dataframe thead th {\n",
              "        text-align: right;\n",
              "    }\n",
              "</style>\n",
              "<table border=\"1\" class=\"dataframe\">\n",
              "  <thead>\n",
              "    <tr style=\"text-align: right;\">\n",
              "      <th></th>\n",
              "      <th>CRIM</th>\n",
              "      <th>ZN</th>\n",
              "      <th>INDUS</th>\n",
              "      <th>CHAS</th>\n",
              "      <th>NOX</th>\n",
              "      <th>RM</th>\n",
              "      <th>AGE</th>\n",
              "      <th>DIS</th>\n",
              "      <th>RAD</th>\n",
              "      <th>TAX</th>\n",
              "      <th>PTRATIO</th>\n",
              "      <th>B</th>\n",
              "      <th>LSTAT</th>\n",
              "      <th>PRICE</th>\n",
              "    </tr>\n",
              "  </thead>\n",
              "  <tbody>\n",
              "    <tr>\n",
              "      <th>count</th>\n",
              "      <td>506.000000</td>\n",
              "      <td>506.000000</td>\n",
              "      <td>506.000000</td>\n",
              "      <td>506.000000</td>\n",
              "      <td>506.000000</td>\n",
              "      <td>506.000000</td>\n",
              "      <td>506.000000</td>\n",
              "      <td>506.000000</td>\n",
              "      <td>506.000000</td>\n",
              "      <td>506.000000</td>\n",
              "      <td>506.000000</td>\n",
              "      <td>506.000000</td>\n",
              "      <td>506.000000</td>\n",
              "      <td>506.000000</td>\n",
              "    </tr>\n",
              "    <tr>\n",
              "      <th>mean</th>\n",
              "      <td>3.613524</td>\n",
              "      <td>11.363636</td>\n",
              "      <td>11.136779</td>\n",
              "      <td>0.069170</td>\n",
              "      <td>0.554695</td>\n",
              "      <td>6.284634</td>\n",
              "      <td>68.574901</td>\n",
              "      <td>3.795043</td>\n",
              "      <td>9.549407</td>\n",
              "      <td>408.237154</td>\n",
              "      <td>18.455534</td>\n",
              "      <td>356.674032</td>\n",
              "      <td>12.653063</td>\n",
              "      <td>22.532806</td>\n",
              "    </tr>\n",
              "    <tr>\n",
              "      <th>std</th>\n",
              "      <td>8.601545</td>\n",
              "      <td>23.322453</td>\n",
              "      <td>6.860353</td>\n",
              "      <td>0.253994</td>\n",
              "      <td>0.115878</td>\n",
              "      <td>0.702617</td>\n",
              "      <td>28.148861</td>\n",
              "      <td>2.105710</td>\n",
              "      <td>8.707259</td>\n",
              "      <td>168.537116</td>\n",
              "      <td>2.164946</td>\n",
              "      <td>91.294864</td>\n",
              "      <td>7.141062</td>\n",
              "      <td>9.197104</td>\n",
              "    </tr>\n",
              "    <tr>\n",
              "      <th>min</th>\n",
              "      <td>0.006320</td>\n",
              "      <td>0.000000</td>\n",
              "      <td>0.460000</td>\n",
              "      <td>0.000000</td>\n",
              "      <td>0.385000</td>\n",
              "      <td>3.561000</td>\n",
              "      <td>2.900000</td>\n",
              "      <td>1.129600</td>\n",
              "      <td>1.000000</td>\n",
              "      <td>187.000000</td>\n",
              "      <td>12.600000</td>\n",
              "      <td>0.320000</td>\n",
              "      <td>1.730000</td>\n",
              "      <td>5.000000</td>\n",
              "    </tr>\n",
              "    <tr>\n",
              "      <th>25%</th>\n",
              "      <td>0.082045</td>\n",
              "      <td>0.000000</td>\n",
              "      <td>5.190000</td>\n",
              "      <td>0.000000</td>\n",
              "      <td>0.449000</td>\n",
              "      <td>5.885500</td>\n",
              "      <td>45.025000</td>\n",
              "      <td>2.100175</td>\n",
              "      <td>4.000000</td>\n",
              "      <td>279.000000</td>\n",
              "      <td>17.400000</td>\n",
              "      <td>375.377500</td>\n",
              "      <td>6.950000</td>\n",
              "      <td>17.025000</td>\n",
              "    </tr>\n",
              "    <tr>\n",
              "      <th>50%</th>\n",
              "      <td>0.256510</td>\n",
              "      <td>0.000000</td>\n",
              "      <td>9.690000</td>\n",
              "      <td>0.000000</td>\n",
              "      <td>0.538000</td>\n",
              "      <td>6.208500</td>\n",
              "      <td>77.500000</td>\n",
              "      <td>3.207450</td>\n",
              "      <td>5.000000</td>\n",
              "      <td>330.000000</td>\n",
              "      <td>19.050000</td>\n",
              "      <td>391.440000</td>\n",
              "      <td>11.360000</td>\n",
              "      <td>21.200000</td>\n",
              "    </tr>\n",
              "    <tr>\n",
              "      <th>75%</th>\n",
              "      <td>3.677083</td>\n",
              "      <td>12.500000</td>\n",
              "      <td>18.100000</td>\n",
              "      <td>0.000000</td>\n",
              "      <td>0.624000</td>\n",
              "      <td>6.623500</td>\n",
              "      <td>94.075000</td>\n",
              "      <td>5.188425</td>\n",
              "      <td>24.000000</td>\n",
              "      <td>666.000000</td>\n",
              "      <td>20.200000</td>\n",
              "      <td>396.225000</td>\n",
              "      <td>16.955000</td>\n",
              "      <td>25.000000</td>\n",
              "    </tr>\n",
              "    <tr>\n",
              "      <th>max</th>\n",
              "      <td>88.976200</td>\n",
              "      <td>100.000000</td>\n",
              "      <td>27.740000</td>\n",
              "      <td>1.000000</td>\n",
              "      <td>0.871000</td>\n",
              "      <td>8.780000</td>\n",
              "      <td>100.000000</td>\n",
              "      <td>12.126500</td>\n",
              "      <td>24.000000</td>\n",
              "      <td>711.000000</td>\n",
              "      <td>22.000000</td>\n",
              "      <td>396.900000</td>\n",
              "      <td>37.970000</td>\n",
              "      <td>50.000000</td>\n",
              "    </tr>\n",
              "  </tbody>\n",
              "</table>\n",
              "</div>"
            ],
            "text/plain": [
              "             CRIM          ZN       INDUS        CHAS         NOX          RM  \\\n",
              "count  506.000000  506.000000  506.000000  506.000000  506.000000  506.000000   \n",
              "mean     3.613524   11.363636   11.136779    0.069170    0.554695    6.284634   \n",
              "std      8.601545   23.322453    6.860353    0.253994    0.115878    0.702617   \n",
              "min      0.006320    0.000000    0.460000    0.000000    0.385000    3.561000   \n",
              "25%      0.082045    0.000000    5.190000    0.000000    0.449000    5.885500   \n",
              "50%      0.256510    0.000000    9.690000    0.000000    0.538000    6.208500   \n",
              "75%      3.677083   12.500000   18.100000    0.000000    0.624000    6.623500   \n",
              "max     88.976200  100.000000   27.740000    1.000000    0.871000    8.780000   \n",
              "\n",
              "              AGE         DIS         RAD         TAX     PTRATIO           B  \\\n",
              "count  506.000000  506.000000  506.000000  506.000000  506.000000  506.000000   \n",
              "mean    68.574901    3.795043    9.549407  408.237154   18.455534  356.674032   \n",
              "std     28.148861    2.105710    8.707259  168.537116    2.164946   91.294864   \n",
              "min      2.900000    1.129600    1.000000  187.000000   12.600000    0.320000   \n",
              "25%     45.025000    2.100175    4.000000  279.000000   17.400000  375.377500   \n",
              "50%     77.500000    3.207450    5.000000  330.000000   19.050000  391.440000   \n",
              "75%     94.075000    5.188425   24.000000  666.000000   20.200000  396.225000   \n",
              "max    100.000000   12.126500   24.000000  711.000000   22.000000  396.900000   \n",
              "\n",
              "            LSTAT       PRICE  \n",
              "count  506.000000  506.000000  \n",
              "mean    12.653063   22.532806  \n",
              "std      7.141062    9.197104  \n",
              "min      1.730000    5.000000  \n",
              "25%      6.950000   17.025000  \n",
              "50%     11.360000   21.200000  \n",
              "75%     16.955000   25.000000  \n",
              "max     37.970000   50.000000  "
            ]
          },
          "metadata": {
            "tags": []
          },
          "execution_count": 67
        }
      ]
    },
    {
      "cell_type": "markdown",
      "metadata": {
        "id": "VWaVgSKCsiO3",
        "colab_type": "text"
      },
      "source": [
        "* **Daten visualisieren**"
      ]
    },
    {
      "cell_type": "code",
      "metadata": {
        "id": "qWivxOuPsiO3",
        "colab_type": "code",
        "colab": {}
      },
      "source": [
        "%matplotlib inline \n",
        "import matplotlib.pyplot as plt "
      ],
      "execution_count": null,
      "outputs": []
    },
    {
      "cell_type": "code",
      "metadata": {
        "id": "lv2NWSrLsiO6",
        "colab_type": "code",
        "colab": {},
        "outputId": "81c1bec1-48d9-4f74-efba-fe152858cfc6"
      },
      "source": [
        "data.hist(bins=50, figsize=(20,15), ec='black')\n",
        "plt.show()"
      ],
      "execution_count": null,
      "outputs": [
        {
          "output_type": "display_data",
          "data": {
            "image/png": "[encoded data removed]",
            "text/plain": [
              "<Figure size 1440x1080 with 16 Axes>"
            ]
          },
          "metadata": {
            "tags": [],
            "needs_background": "light"
          }
        }
      ]
    },
    {
      "cell_type": "code",
      "metadata": {
        "id": "OyepndDKsiO8",
        "colab_type": "code",
        "colab": {},
        "outputId": "a30793c3-4253-42ea-ec53-819cc2928a59"
      },
      "source": [
        "plt.plot(data['RM'], data['PRICE'], 'b.')\n",
        "plt.xlabel('Zimmeranzahl')\n",
        "plt.ylabel('Preis in 1000$')\n",
        "plt.show()"
      ],
      "execution_count": null,
      "outputs": [
        {
          "output_type": "display_data",
          "data": {
            "image/png": "[encoded data removed]",
            "text/plain": [
              "<Figure size 432x288 with 1 Axes>"
            ]
          },
          "metadata": {
            "tags": [],
            "needs_background": "light"
          }
        }
      ]
    },
    {
      "cell_type": "markdown",
      "metadata": {
        "id": "5-MLfQiWsiO-",
        "colab_type": "text"
      },
      "source": [
        "* **Daten aufteilen**"
      ]
    },
    {
      "cell_type": "markdown",
      "metadata": {
        "id": "1PkxFJ61siO_",
        "colab_type": "text"
      },
      "source": [
        "Ein grundlegendes Ziel eines ML-Algorithmus ist die sogenannte Generalisierung. Dies bezeichnet die Fähigkeit des Algorithmus, den gesuchten Wert eines unbekannten Datenpunktes richtig vorherzusagen.  "
      ]
    },
    {
      "cell_type": "markdown",
      "metadata": {
        "id": "CTznt3uZsiO_",
        "colab_type": "text"
      },
      "source": [
        "Um den Generalisierungsfehler am Ende der Trainingsphase abschätzen zu können, und damit auch verschiedene Modelle gegeneinander abzugleichen, werden Datensätze meistens in zwei Teilen aufgeteilt: in einem Trainingssatz und einem Testsatz.  "
      ]
    },
    {
      "cell_type": "code",
      "metadata": {
        "id": "ee1BGJtfsiPA",
        "colab_type": "code",
        "colab": {}
      },
      "source": [
        "merkmale= data.drop('PRICE', axis=1)\n",
        "preise= data['PRICE']"
      ],
      "execution_count": null,
      "outputs": []
    },
    {
      "cell_type": "code",
      "metadata": {
        "id": "Atwc8SfvsiPC",
        "colab_type": "code",
        "colab": {}
      },
      "source": [
        "from sklearn.model_selection import train_test_split\n",
        "merkmale_train, merkmale_test, preise_train, preise_test= train_test_split(merkmale, \n",
        "                                                                           preise,\n",
        "                                                                           test_size=0.2,\n",
        "                                                                           random_state= 1) "
      ],
      "execution_count": null,
      "outputs": []
    },
    {
      "cell_type": "markdown",
      "metadata": {
        "id": "4o-xK8_usiPF",
        "colab_type": "text"
      },
      "source": [
        "* **Daten aufbereiten**"
      ]
    },
    {
      "cell_type": "markdown",
      "metadata": {
        "id": "0k4z94f-siPF",
        "colab_type": "text"
      },
      "source": [
        "Bei diesem Schritt geht es darum, die Daten so vorzubereiten, dass sie ML-Algorithmen in optimalem Zustand zugefüttert werden können. Typische Aufgaben sind die Datenbereinigung und Datenreduktion.  "
      ]
    },
    {
      "cell_type": "markdown",
      "metadata": {
        "id": "l-PZ_xuUsiPG",
        "colab_type": "text"
      },
      "source": [
        "* **Modelle trainieren**"
      ]
    },
    {
      "cell_type": "code",
      "metadata": {
        "id": "rge7mVL2siPH",
        "colab_type": "code",
        "colab": {}
      },
      "source": [
        "from sklearn.linear_model import LinearRegression\n",
        "from sklearn.linear_model import SGDRegressor"
      ],
      "execution_count": null,
      "outputs": []
    },
    {
      "cell_type": "code",
      "metadata": {
        "id": "T4vN-7xhsiPJ",
        "colab_type": "code",
        "colab": {},
        "outputId": "059dd7a7-ad04-4144-9d76-0be427a73c14"
      },
      "source": [
        "lin_reg= LinearRegression()\n",
        "lin_reg.fit(merkmale_train, preise_train)"
      ],
      "execution_count": null,
      "outputs": [
        {
          "output_type": "execute_result",
          "data": {
            "text/plain": [
              "LinearRegression(copy_X=True, fit_intercept=True, n_jobs=None, normalize=False)"
            ]
          },
          "metadata": {
            "tags": []
          },
          "execution_count": 88
        }
      ]
    },
    {
      "cell_type": "code",
      "metadata": {
        "id": "lBebDMjOsiPL",
        "colab_type": "code",
        "colab": {},
        "outputId": "2322c515-3e27-41e5-fe28-cb6c6a41ce89"
      },
      "source": [
        "sgd_reg= SGDRegressor()\n",
        "sgd_reg.fit(merkmale_train, preise_train)"
      ],
      "execution_count": null,
      "outputs": [
        {
          "output_type": "execute_result",
          "data": {
            "text/plain": [
              "SGDRegressor(alpha=0.0001, average=False, early_stopping=False, epsilon=0.1,\n",
              "             eta0=0.01, fit_intercept=True, l1_ratio=0.15,\n",
              "             learning_rate='invscaling', loss='squared_loss', max_iter=1000,\n",
              "             n_iter_no_change=5, penalty='l2', power_t=0.25, random_state=None,\n",
              "             shuffle=True, tol=0.001, validation_fraction=0.1, verbose=0,\n",
              "             warm_start=False)"
            ]
          },
          "metadata": {
            "tags": []
          },
          "execution_count": 89
        }
      ]
    },
    {
      "cell_type": "markdown",
      "metadata": {
        "id": "w3MCzalysiPO",
        "colab_type": "text"
      },
      "source": [
        "* **Modell auswählen**"
      ]
    },
    {
      "cell_type": "code",
      "metadata": {
        "id": "_P1gOhoPsiPO",
        "colab_type": "code",
        "colab": {}
      },
      "source": [
        "from sklearn.metrics import mean_squared_error "
      ],
      "execution_count": null,
      "outputs": []
    },
    {
      "cell_type": "code",
      "metadata": {
        "id": "I98bF8CKsiPQ",
        "colab_type": "code",
        "colab": {},
        "outputId": "28ede61e-8645-4a5b-f960-765808b38e81"
      },
      "source": [
        "lin_preise_predict= lin_reg.predict(merkmale_test)\n",
        "lin_error= mean_squared_error(preise_test, lin_preise_predict)\n",
        "lin_error"
      ],
      "execution_count": null,
      "outputs": [
        {
          "output_type": "execute_result",
          "data": {
            "text/plain": [
              "23.38083648027037"
            ]
          },
          "metadata": {
            "tags": []
          },
          "execution_count": 95
        }
      ]
    },
    {
      "cell_type": "code",
      "metadata": {
        "id": "5J1XHApPsiPS",
        "colab_type": "code",
        "colab": {},
        "outputId": "de2c8052-4f05-4d59-b417-6a5479db56ba"
      },
      "source": [
        "sgd_preise_predict= sgd_reg.predict(merkmale_test)\n",
        "sgd_error= mean_squared_error(preise_test, sgd_preise_predict)\n",
        "sgd_error"
      ],
      "execution_count": null,
      "outputs": [
        {
          "output_type": "execute_result",
          "data": {
            "text/plain": [
              "4.7499421608174104e+27"
            ]
          },
          "metadata": {
            "tags": []
          },
          "execution_count": 97
        }
      ]
    },
    {
      "cell_type": "markdown",
      "metadata": {
        "id": "O6lgxVbJsiPV",
        "colab_type": "text"
      },
      "source": [
        "#### 6. Übung"
      ]
    },
    {
      "cell_type": "markdown",
      "metadata": {
        "id": "S87r-9gfsiPV",
        "colab_type": "text"
      },
      "source": [
        "In der heutigen Übung wollen wir ein Tool entwickeln, um den Zusammenhang zwischen  Blutzuckerspiegel von an Diabetes erkrankten Patienten und verschiedenen Merkmalen zu ermitteln.  \n",
        "Für die Bearbeitung der Übung stehen Euch 25 Minuten zur Verfügung. Im Anschluss danach wird jede(r) 3 bis 5 Minuten Zeit haben, um den eigenen Ansatz zu erklären, und Fragen zu stellen.\n",
        "\n",
        "Hinweis: Wenn Ihr mit einer Teilaufgabe nicht weiterkommt, könnt Ihr immer Google benutzen, um Fragen zu stellen und nach Antworten zu suchen. Die Aufgabe orientiert sich außerdem stark an dem, was wir bisher gemacht haben. "
      ]
    },
    {
      "cell_type": "markdown",
      "metadata": {
        "id": "gTT7iraYsiPW",
        "colab_type": "text"
      },
      "source": [
        "- Ladet den Datensatz von der Scikit-Learn Bibliothek in einer Variable. \n",
        "- Erstellt ein Pandas DataFrame-Objekt mit dem Datensatz. \n",
        "- Zeigt eine Beschreibung (describe) der Daten an. \n",
        "- Visualisiert die Daten anhand eines Histogramms.\n",
        "- Teilt die Daten in Merkmalen und Zuckerspiegel auf\n",
        "- Teilt die Daten in Trainingsdaten und Testdaten auf (test_size= 0.2, random_state=10)\n",
        "- Trainiert ein LinearRegression und ein SGDRegression Algorithmen\n",
        "- Vergleicht die zwei Algorithmen mittels des MSE-Fehlerwertes. "
      ]
    },
    {
      "cell_type": "code",
      "metadata": {
        "id": "tNELXwWJsiPW",
        "colab_type": "code",
        "colab": {}
      },
      "source": [
        ""
      ],
      "execution_count": null,
      "outputs": []
    }
  ]
}