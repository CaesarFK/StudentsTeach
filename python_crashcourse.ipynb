{
  "nbformat": 4,
  "nbformat_minor": 0,
  "metadata": {
    "kernelspec": {
      "display_name": "Python 3",
      "language": "python",
      "name": "python3"
    },
    "language_info": {
      "codemirror_mode": {
        "name": "ipython",
        "version": 3
      },
      "file_extension": ".py",
      "mimetype": "text/x-python",
      "name": "python",
      "nbconvert_exporter": "python",
      "pygments_lexer": "ipython3",
      "version": "3.7.7"
    },
    "colab": {
      "name": "python_crashcourse.ipynb",
      "provenance": [],
      "collapsed_sections": [],
      "include_colab_link": true
    }
  },
  "cells": [
    {
      "cell_type": "markdown",
      "metadata": {
        "id": "view-in-github",
        "colab_type": "text"
      },
      "source": [
        "<a href=\"https://colab.research.google.com/github/CaesarFK/StudentsTeach/blob/master/python_crashcourse.ipynb\" target=\"_parent\"><img src=\"https://colab.research.google.com/assets/colab-badge.svg\" alt=\"Open In Colab\"/></a>"
      ]
    },
    {
      "cell_type": "markdown",
      "metadata": {
        "id": "aIpBkd_4pJ60",
        "colab_type": "text"
      },
      "source": [
        "<h1><center>Einführung ins Programmieren mit Python</center></h1>"
      ]
    },
    {
      "cell_type": "markdown",
      "metadata": {
        "id": "KuveFfWYpJ64",
        "colab_type": "text"
      },
      "source": [
        "#### 1. Was heißt denn überhaupt 'Programmieren'?"
      ]
    },
    {
      "cell_type": "markdown",
      "metadata": {
        "id": "7aq2cYSQpJ67",
        "colab_type": "text"
      },
      "source": [
        "Programmierung bezeichnet die Tätigkeit, Computerprogramme zu erstellen. [Wikipedia]"
      ]
    },
    {
      "cell_type": "markdown",
      "metadata": {
        "id": "B5zkwhR2pJ69",
        "colab_type": "text"
      },
      "source": [
        "Um dies näher verstehen zu können, müssen wir uns kurz mit dem Aufbau von Rechnern beschäftigen. Genauer gesagt, mit dem Hauptbestandteil:  "
      ]
    },
    {
      "cell_type": "markdown",
      "metadata": {
        "id": "TpmPYdAypJ7A",
        "colab_type": "text"
      },
      "source": [
        "**Die zentrale Verarbeitungseinheit** (engl. CPU: central processing unit)"
      ]
    },
    {
      "cell_type": "markdown",
      "metadata": {
        "id": "1wIFqBl9pJ7C",
        "colab_type": "text"
      },
      "source": [
        "CPUs sind elektrische Schaltungen, die aus verschiednen Blöcken von Logikgattern bestehen. Die Zusammensetzung von Logikgattern erlaubt das Ausführen bestimmter Operationen. Subjekt dieser Operationen sind nichts anderes als elektrische Impulse, die entweder aus- oder angeschaltet werden. Es sind von Menschen festgelegten Protokolle, die es erlauben, dass die Ergebisse diser Operationen ein Zweck erfüllen. Ohne diese Protokolle ist der Rechner nur ein Schaltkreis, der in der Lage ist, binnen Sekunden Milliarden von elektrischen Impulsen an- und auszuschalten. "
      ]
    },
    {
      "cell_type": "markdown",
      "metadata": {
        "id": "MgNpM7YXpJ7F",
        "colab_type": "text"
      },
      "source": [
        "Zur Veranschaulichung können wir uns einen Auszug aus diesem [Video](https://www.youtube.com/watch?v=VBDoT8o4q00) anschauen. \n"
      ]
    },
    {
      "cell_type": "markdown",
      "metadata": {
        "id": "huyLyRMppJ7H",
        "colab_type": "text"
      },
      "source": [
        "Ein CPU besteht aus Millionen solcher Logikgatter. Wie bereits erwähnt, erfüllen verschiedene Kombinationen verschiedene Zwecke. Jedes CPU hat seine eigene Architektur, die nachgeschlagen werden kann, um zu wissen, über welche Operationen der Rechner verfügt. [Hier](http://www.visual6502.org/JSSim/) ist ein typsiches Beispiel. "
      ]
    },
    {
      "cell_type": "markdown",
      "metadata": {
        "id": "9f-XPhCKpJ7J",
        "colab_type": "text"
      },
      "source": [
        "Über eine geignete Schnittstelle kann man diese Logikgatter direkt ansprechen. Dies ist durch den jedem CPU zugerodneten Befehlsatz möglich. [Hier](https://www.masswerk.at/6502/6502_instruction_set.html) sehen wir den entsprechenden Befehlsatz für unseren 6502.  "
      ]
    },
    {
      "cell_type": "markdown",
      "metadata": {
        "id": "d8TyVfKxpJ7M",
        "colab_type": "text"
      },
      "source": [
        "Mehr ist eigentlich nicht dazu. Die elementaren Bausteine eines Rechners sind die Logikgatter, die bestimmte Operationen durchführen können. "
      ]
    },
    {
      "cell_type": "markdown",
      "metadata": {
        "id": "RHCJv3LApJ7O",
        "colab_type": "text"
      },
      "source": [
        "##### Das Programmieren eines Rechners bezeichnet also nichts anderes als der Vorgang, bei dem eine einem Problem geeigneten Reihe an elementaren Operationen durchgeführt werden."
      ]
    },
    {
      "cell_type": "markdown",
      "metadata": {
        "id": "fbFzaUVhpJ7S",
        "colab_type": "text"
      },
      "source": [
        "Die Schlüsselfähigkeit eines jeden Programmierers ist es daher: das Problemlösen. "
      ]
    },
    {
      "cell_type": "markdown",
      "metadata": {
        "id": "OJ5O1RphpJ7U",
        "colab_type": "text"
      },
      "source": [
        "#### 2. Warum Programmiersprachen?"
      ]
    },
    {
      "cell_type": "markdown",
      "metadata": {
        "id": "fWww7jWqpJ7W",
        "colab_type": "text"
      },
      "source": [
        "Im vorherigen Abschnitt haben wir uns einen Befehlsatz angeschaut, der zwar menschlich lesbar ist, jedoch so komplex, dass jedem neuen Programmierer eine steile Lernkurve bevorsteht.\n",
        "Programmiersprachen wurden entwickelt, um den Menschen der Prozess des Programmieren zu vereinfachen, damit sie sich nur um die Problemlösungsansätze fokussieren können (Problemlösungsansätze nennen wir Algorithmen)."
      ]
    },
    {
      "cell_type": "markdown",
      "metadata": {
        "id": "O6BsqOZ0pJ7Y",
        "colab_type": "text"
      },
      "source": [
        "Die Entwicklung von höheren Programmiersprachen hat es erlaubt, eine Abstraktionsebene zu gestalten, die es jedem erlaubt, unabhängig der Rechnerarchitektur Programme zu schreiben. Einerseits sind Programmiersprachen eine Übersetzung des Befehlsatzes zu einer menschlich verständlichen Form, andererseits bestehen geignete Programme, um die vom Menschen verfasste Software wieder in eine für den Rechner verständliche Form umzuwandeln. Die zwei Arten dieser 'geigneten Programme' sind der Compiler und der Interpreter, und sind jeweils Sprachenabhängig.  "
      ]
    },
    {
      "cell_type": "markdown",
      "metadata": {
        "id": "80uZ_LtxpJ7a",
        "colab_type": "text"
      },
      "source": [
        "##### Wichtig: Alle Programmiersprachen sind im Endeffekt in der Lage, dieselben Befehle auszuführen."
      ]
    },
    {
      "cell_type": "markdown",
      "metadata": {
        "id": "LzKOcJjvpJ7d",
        "colab_type": "text"
      },
      "source": [
        "#### 3. Warum Python für Data Science und Machine Learning"
      ]
    },
    {
      "cell_type": "markdown",
      "metadata": {
        "id": "V632V8yspJ7f",
        "colab_type": "text"
      },
      "source": [
        "*Wenn alle Programmiersprachen die gleichen Funktionen erfüllen können, wieso existieren denn so viele davon?* "
      ]
    },
    {
      "cell_type": "markdown",
      "metadata": {
        "id": "qdWzhK3dpJ7h",
        "colab_type": "text"
      },
      "source": [
        "Rechner sind Artifakte, und verfügen von daher über begrenzte Ressourcen: \n",
        "- Endlicher Speicherplatz\n",
        "- Endliche Geschwindigkeit der Ausführung von Befehlen.\n",
        "- Endliche Genauigkeit der Berechnungen. \n",
        "\n",
        "Wer eine Programmiersprache entwickeln will, muss sich Gedanken darüber machen, welche Kompromisse eingegangen werden sollen (engl. Design Goals of a programming language). Un dies leitet sich vor allem aus dem Zweck und die Motivation, die dem Entwicklungsvorhaben zugrunde liegen. "
      ]
    },
    {
      "cell_type": "markdown",
      "metadata": {
        "id": "OLw2uxGGpJ7j",
        "colab_type": "text"
      },
      "source": [
        "Die Designziele von **Python** sind:\n",
        "- Die Produktivität des Entwicklers: man braucht wenig Code, um das gleiche zu erreichen wie bei einer anderen Sprache\n",
        "- Lesbarkeit des Codes: auch Menschen mit wenig Programmiererfahrung sind in der Lage, ein Python Code grob zu verstehen. "
      ]
    },
    {
      "cell_type": "markdown",
      "metadata": {
        "id": "NbtahRZqpJ7k",
        "colab_type": "text"
      },
      "source": [
        "Die Designziele von Python sind nicht willkürlich, sondern stammen aus einer sehr wichtigen Entwicklung in der Art und Weise, wie Code geschrieben wird. "
      ]
    },
    {
      "cell_type": "markdown",
      "metadata": {
        "id": "_5cJ8eUIpJ7m",
        "colab_type": "text"
      },
      "source": [
        "Früher hat man ein Team an Entwickler, die sich regelmäßig zusammentreffen, um den Code zu schreiben, zu testen, und einzusetzen. Nach und nach werden aber Softwareprodukte von sehr vielen Menschen entwickelt, die teilweise sogar auf verschiedenen Kontinenten leben. Code müsste von daher nicht mehr als ein Zementblock betrachtet werden, sondern als Legoteile, die eine einheitliche Schnittstelle auweisen, um zusammengebracht werden zu können, jedoch sind voneinader so unabhängig, dass sie separat eingepackt und geliefert werden können. \n",
        "\n",
        "Das Äquivalent eines Legoteiles in der Softwareentwicklung nennen wir eine **Bibliothek**.  \n",
        "Tatsächlich sind moderne Programmiersprachen eine Sammlung an Bibliotheken, die geeignete Schnittstellen zu einander aufweisen, jedoch separat entwickelt und gepflegt werden. "
      ]
    },
    {
      "cell_type": "markdown",
      "metadata": {
        "id": "1CNoiXC7pJ7n",
        "colab_type": "text"
      },
      "source": [
        "Zu unserer Frage: Die Designziele von Python fuhren dazu, dass eine Unmenge an Machine Learninig Bibliotheken für Python entwickelt wurden. Als Folge davon, entschieden sich immer mehr Anfänger dazu, Python für ihre ML-Projekte anzuwenden, was zu der Entstehung weiterer Bibliotheken beigetragen hat usw. Heute ist Python die dominierende Programmiersprache im Bereich Data Science und Machine Learning.   "
      ]
    },
    {
      "cell_type": "markdown",
      "metadata": {
        "id": "6FY4O0repJ7s",
        "colab_type": "text"
      },
      "source": [
        "#### 4. Und jetzt?  "
      ]
    },
    {
      "cell_type": "markdown",
      "metadata": {
        "id": "gjbLxYoipJ7t",
        "colab_type": "text"
      },
      "source": [
        "In unserem Kurs werden wir verschiedene Bibliotheken kennenlernen, darunter: \n",
        "- Numpy für numerische Mathematik \n",
        "- Matplotlib für Visualisierungen\n",
        "- Pandas und Scikitlearn für Machine Learning\n",
        "- Tensorflow und Keras für Deep Learning"
      ]
    },
    {
      "cell_type": "markdown",
      "metadata": {
        "id": "kuYECBhPpJ7u",
        "colab_type": "text"
      },
      "source": [
        "Es wird selten der Fall sein, dass man ein ganzes Quellcode selber schreiben muss. Nachdem man die Fertigkeit des Problemlösens trainiert hat, besteht die Aufgabe darin, nützliche Bibliotheken zu identifizieren und zu nutzen. \n",
        "Darum werden wir in der heutigen Sitzung eine kleine Bibliothek schreiben. "
      ]
    },
    {
      "cell_type": "markdown",
      "metadata": {
        "id": "hjmIkqynpJ7v",
        "colab_type": "text"
      },
      "source": [
        "Die nötigen Konzepte werden nach und nach vorgestellt und erklärt."
      ]
    },
    {
      "cell_type": "markdown",
      "metadata": {
        "id": "ybQCDqmzpJ7x",
        "colab_type": "text"
      },
      "source": [
        "#### 5. Unsere erste Bibliothek"
      ]
    },
    {
      "cell_type": "markdown",
      "metadata": {
        "id": "0Ht3L0z8pJ7y",
        "colab_type": "text"
      },
      "source": [
        "Entwicklet wird heute eine Bibliothek, die wir 'auto' nennen werden. Davor ein letzes Hardwarestück, das wir betrachten sollen. "
      ]
    },
    {
      "cell_type": "markdown",
      "metadata": {
        "id": "ULtJIorQpJ7z",
        "colab_type": "text"
      },
      "source": [
        "##### Der Speicher "
      ]
    },
    {
      "cell_type": "markdown",
      "metadata": {
        "id": "hFWJMRZspJ70",
        "colab_type": "text"
      },
      "source": [
        "Computer leisten grundsätzlich drei Aufgaben:\n",
        "- Rechnen\n",
        "- Speichern\n",
        "- Netzwerken \n",
        "\n",
        "Die Grundlagen des Rechnens haben wir uns schon angeschaut, hier werden wir als kleine Anmerkung das Speichern ansprechen, das mit dem Rechnen verbunden ist. Netzwerken ist nicht Teil dieses Workshops. "
      ]
    },
    {
      "cell_type": "markdown",
      "metadata": {
        "id": "_mJb6GHBpJ72",
        "colab_type": "text"
      },
      "source": [
        "Damit das CPU berechnungen durchführen kann benötigt es Speicherplatz, um auf Daten und Routinen zuzugreifen, und Ergebnisse und Zwischenergebnisse zu speichern. Ein Computer verfügt über 3 Arten von Speichereinheiten. \n",
        "\n",
        "- Festplatte\n",
        "- RAM (Random Access Memory)\n",
        "- Caches\n",
        "\n",
        "Für uns von großer Bedeutung ist das RAM. Das ist eine Art 'Staging Area', die das CPU benutzt, solange Programme ausgeführt werden, und wird dann wieder gereinigt sobald der Computer ausgemacht wird. RAM ist auch nichts anderes als Logikgatter."
      ]
    },
    {
      "cell_type": "markdown",
      "metadata": {
        "id": "oXOl-cVkpJ73",
        "colab_type": "text"
      },
      "source": [
        "<table><tr><td><img src='https://qph.fs.quoracdn.net/main-qimg-f0c5b5321a42e7c4139a57cd46caf590'></td><td><img src='https://miro.medium.com/max/1736/1*HPqGTjrn1zSW9e3VVhdX-g.png'></td></tr></table>\n",
        "\n",
        "Quelle: Quora, Medium"
      ]
    },
    {
      "cell_type": "markdown",
      "metadata": {
        "id": "LDq2WxPbpJ74",
        "colab_type": "text"
      },
      "source": [
        "RAM wird über die Addresse des jeweiligen Speicherblocks angeprochen. Oft werden diese Speicherblöcke in der Literatur als eine Blackbox dargestellt, wörtlich. "
      ]
    },
    {
      "cell_type": "markdown",
      "metadata": {
        "id": "hJUWXi5GpJ75",
        "colab_type": "text"
      },
      "source": [
        "<center><img src='https://inventwithpython.com/chapter2_files/image007.jpg'></center>\n",
        "\n",
        "Quelle: Invent with Python"
      ]
    },
    {
      "cell_type": "markdown",
      "metadata": {
        "id": "mH7q7C2tpJ76",
        "colab_type": "text"
      },
      "source": [
        "Jetzt wissen wir, was das genau bedeutet. "
      ]
    },
    {
      "cell_type": "code",
      "metadata": {
        "id": "B0w171RfpJ77",
        "colab_type": "code",
        "colab": {}
      },
      "source": [
        ""
      ],
      "execution_count": null,
      "outputs": []
    }
  ]
}